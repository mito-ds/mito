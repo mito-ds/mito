{
 "cells": [
  {
   "cell_type": "code",
   "execution_count": 1,
   "id": "69f1b3be-8dd0-492f-8b9e-2b1e33e6a735",
   "metadata": {},
   "outputs": [
    {
     "name": "stdout",
     "output_type": "stream",
     "text": [
      "1\n"
     ]
    }
   ],
   "source": [
    "print(1)"
   ]
  },
  {
   "cell_type": "code",
   "execution_count": null,
   "id": "cb70fa0d-fbeb-4c9e-9d4c-3cdf09f62034",
   "metadata": {},
   "outputs": [],
   "source": []
  },
  {
   "cell_type": "code",
   "execution_count": null,
   "id": "97051017-52f8-450c-9460-e5d6bf79ec36",
   "metadata": {},
   "outputs": [],
   "source": [
    "print(1asdfklajsdflkjasdlkfjalksdjflkajskldfjaskldjflkasjdflkjasdklfjaklsdjfkjasdflkjaskldfjklasjdfkjaskldjfklasjdfkljaskld;fjalk;sjdflkajsdf"
   ]
  }
 ],
 "metadata": {
  "kernelspec": {
   "display_name": "Python 3 (ipykernel)",
   "language": "python",
   "name": "python3"
  },
  "language_info": {
   "codemirror_mode": {
    "name": "ipython",
    "version": 3
   },
   "file_extension": ".py",
   "mimetype": "text/x-python",
   "name": "python",
   "nbconvert_exporter": "python",
   "pygments_lexer": "ipython3",
   "version": "3.11.1"
  }
 },
 "nbformat": 4,
 "nbformat_minor": 5
}
