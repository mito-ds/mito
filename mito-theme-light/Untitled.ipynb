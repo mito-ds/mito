{
 "cells": [
  {
   "cell_type": "code",
   "execution_count": null,
   "id": "a20d598d-75fc-4c07-bcc8-91e866e1d9d9",
   "metadata": {},
   "outputs": [],
   "source": [
    "\n",
    "\n",
    "if "
   ]
  }
 ],
 "metadata": {
  "kernelspec": {
   "display_name": "Python 3 (ipykernel)",
   "language": "python",
   "name": "python3"
  },
  "language_info": {
   "codemirror_mode": {
    "name": "ipython",
    "version": 3
   },
   "file_extension": ".py",
   "mimetype": "text/x-python",
   "name": "python",
   "nbconvert_exporter": "python",
   "pygments_lexer": "ipython3",
   "version": "3.11.1"
  }
 },
 "nbformat": 4,
 "nbformat_minor": 5
}
