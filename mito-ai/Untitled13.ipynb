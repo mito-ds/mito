{
 "cells": [
  {
   "cell_type": "code",
   "execution_count": 17,
   "id": "7b3663a7-6e64-418c-bed7-9ed6b59fa7e4",
   "metadata": {},
   "outputs": [],
   "source": [
    "import pandas as pd\n",
    "data = {'numbers': [1], 'loan_amount': [1000], 'interest_rate': [0.05], 'total_amount': [1050]}\n",
    "df = pd.DataFrame(data)\n",
    "\n",
    "# Calculate the total amount to be paid back after one year\n",
    "df['total_amount'] = df['loan_amount'] + (df['loan_amount'] * df['interest_rate'])\n",
    "\n",
    "# Add a new column to the dataframe\n",
    "df['new_column'] = df['loan_amount'] * 2  # Example calculation\n",
    "\n",
    "# Add a new column called 'const' with a constant value\n",
    "df['const'] = 42  # Example constant value"
   ]
  },
  {
   "cell_type": "code",
   "execution_count": null,
   "id": "acd81404-5fc4-4e22-ad21-f283f343accf",
   "metadata": {},
   "outputs": [],
   "source": []
  }
 ],
 "metadata": {
  "kernelspec": {
   "display_name": "Python 3 (ipykernel)",
   "language": "python",
   "name": "python3"
  },
  "language_info": {
   "codemirror_mode": {
    "name": "ipython",
    "version": 3
   },
   "file_extension": ".py",
   "mimetype": "text/x-python",
   "name": "python",
   "nbconvert_exporter": "python",
   "pygments_lexer": "ipython3",
   "version": "3.10.4"
  }
 },
 "nbformat": 4,
 "nbformat_minor": 5
}
