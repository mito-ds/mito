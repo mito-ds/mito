{
 "cells": [
  {
   "cell_type": "code",
   "execution_count": null,
   "id": "0610d646-a286-4f9c-864f-f6d7d170b460",
   "metadata": {},
   "outputs": [],
   "source": [
    "import pandas as pd\n",
    "\n",
    "# Creating a sample DataFrame about movies with directors included\n",
    "# Creating a sample DataFrame about movies with creators included\n",
    "movies_data = {\n",
    "    'title': ['Inception', 'The Matrix', 'Interstellar'],\n",
    "    'release_year': [2010, 1999, 2014],\n",
    "    'rating': [8.8, 8.7, 8.6],\n",
    "    'sales': [829895144, 463517383, 677715194]  # Added sales data\n",
    "}\n",
    "movies_df = pd.DataFrame(movies_data)"
   ]
  }
 ],
 "metadata": {
  "kernelspec": {
   "display_name": "Python 3 (ipykernel)",
   "language": "python",
   "name": "python3"
  },
  "language_info": {
   "codemirror_mode": {
    "name": "ipython",
    "version": 3
   },
   "file_extension": ".py",
   "mimetype": "text/x-python",
   "name": "python",
   "nbconvert_exporter": "python",
   "pygments_lexer": "ipython3",
   "version": "3.10.4"
  }
 },
 "nbformat": 4,
 "nbformat_minor": 5
}
