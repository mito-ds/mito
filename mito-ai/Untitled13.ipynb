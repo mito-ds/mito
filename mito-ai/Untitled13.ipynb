{
 "cells": [
  {
   "cell_type": "code",
   "execution_count": 10,
   "id": "7b3663a7-6e64-418c-bed7-9ed6b59fa7e4",
   "metadata": {},
   "outputs": [],
   "source": [
    "import pandas as pd\n",
    "data = {'numbers': [1], 'loan_amount': [1000], 'interest_rate': [0.05], 'total_amount': [1050]}\n",
    "loan_df = pd.DataFrame(data)\n",
    "\n",
    "# Calculate the total amount to be paid back after one year\n",
    "loan_df['total_amount'] = loan_df['loan_amount'] + (loan_df['loan_amount'] * loan_df['interest_rate'])"
   ]
  },
  {
   "cell_type": "code",
   "execution_count": null,
   "id": "acd81404-5fc4-4e22-ad21-f283f343accf",
   "metadata": {},
   "outputs": [],
   "source": []
  }
 ],
 "metadata": {
  "kernelspec": {
   "display_name": "Python 3 (ipykernel)",
   "language": "python",
   "name": "python3"
  },
  "language_info": {
   "codemirror_mode": {
    "name": "ipython",
    "version": 3
   },
   "file_extension": ".py",
   "mimetype": "text/x-python",
   "name": "python",
   "nbconvert_exporter": "python",
   "pygments_lexer": "ipython3",
   "version": "3.10.4"
  }
 },
 "nbformat": 4,
 "nbformat_minor": 5
}
