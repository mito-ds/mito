{
 "cells": [
  {
   "cell_type": "code",
   "execution_count": null,
   "id": "0610d646-a286-4f9c-864f-f6d7d170b460",
   "metadata": {},
   "outputs": [],
   "source": [
    "import pandas as pd\n",
    "\n",
    "# Creating a sample DataFrame about movies with directors included\n",
    "# Creating a sample DataFrame about movies with creators included\n",
    "movies_data = {\n",
    "    'title': ['Inception', 'The Matrix', 'Interstellar'],\n",
    "    'release_year': [2010, 1999, 2014],\n",
    "    'rating': [8.8, 8.7, 8.6],\n",
    "    'sales': [836800000, 463517383, 677471339],  # Added sales data\n",
    "    'director': ['Christopher Nolan', 'Lana Wachowski, Lilly Wachowski', 'Christopher Nolan']  # Added director data\n",
    "    'creator': ['Christopher Nolan', 'Lana Wachowski, Lilly Wachowski', 'Christopher Nolan']  # Changed director to creator\n",
    "}\n",
    "movies_df = pd.DataFrame(movies_data)"
   ]
  },
  {
   "cell_type": "code",
   "execution_count": null,
   "id": "f2e43b14-559b-408f-b4ff-e38b4a44ff4b",
   "metadata": {},
   "outputs": [],
   "source": [
    "highest_grossing_movie = movies_df[movies_df['gross'] == movies_df['gross'].max()]\n",
    "top_directors = movies_df.groupby('director')['gross'].sum().reset_index().sort_values(by='gross', ascending=False)"
   ]
  }
 ],
 "metadata": {
  "kernelspec": {
   "display_name": "Python 3 (ipykernel)",
   "language": "python",
   "name": "python3"
  },
  "language_info": {
   "codemirror_mode": {
    "name": "ipython",
    "version": 3
   },
   "file_extension": ".py",
   "mimetype": "text/x-python",
   "name": "python",
   "nbconvert_exporter": "python",
   "pygments_lexer": "ipython3",
   "version": "3.10.4"
  }
 },
 "nbformat": 4,
 "nbformat_minor": 5
}
