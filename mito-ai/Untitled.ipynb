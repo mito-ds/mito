{
 "cells": [
  {
   "cell_type": "code",
   "execution_count": 1,
   "id": "e8a0d14d-a615-403e-b993-743f9c1ce89d",
   "metadata": {},
   "outputs": [],
   "source": [
    "a = 0  # Define a with an initial value\n",
    "b = 5  # Define b with an initial value\n",
    "y = 1\n",
    "z = b + y"
   ]
  },
  {
   "cell_type": "code",
   "execution_count": 2,
   "id": "a8d30331-2265-4555-a3cb-ee3fe3f05502",
   "metadata": {},
   "outputs": [
    {
     "ename": "ModuleNotFoundError",
     "evalue": "No module named 'pandas'",
     "output_type": "error",
     "traceback": [
      "\u001b[0;31m---------------------------------------------------------------------------\u001b[0m",
      "\u001b[0;31mModuleNotFoundError\u001b[0m                       Traceback (most recent call last)",
      "Cell \u001b[0;32mIn[2], line 2\u001b[0m\n\u001b[1;32m      1\u001b[0m \u001b[38;5;66;03m# First, make sure to install pandas by running: pip install pandas\u001b[39;00m\n\u001b[0;32m----> 2\u001b[0m \u001b[38;5;28;01mimport\u001b[39;00m \u001b[38;5;21;01mpandas\u001b[39;00m \u001b[38;5;28;01mas\u001b[39;00m \u001b[38;5;21;01mpd\u001b[39;00m\n\u001b[1;32m      3\u001b[0m df \u001b[38;5;241m=\u001b[39m pd\u001b[38;5;241m.\u001b[39mDataFrame({\u001b[38;5;124m'\u001b[39m\u001b[38;5;124mA\u001b[39m\u001b[38;5;124m'\u001b[39m: [\u001b[38;5;241m1\u001b[39m, \u001b[38;5;241m2\u001b[39m, \u001b[38;5;241m3\u001b[39m]})\n\u001b[1;32m      4\u001b[0m df\n",
      "\u001b[0;31mModuleNotFoundError\u001b[0m: No module named 'pandas'"
     ]
    }
   ],
   "source": [
    "# Notes\n",
    "1. Does it matter where you send the prompt to? Needs to anonymize everything unless using SafeGPT "
   ]
  },
  {
   "cell_type": "code",
   "execution_count": 12,
   "id": "5b45d96d-28f4-491c-8034-c459376c1e9c",
   "metadata": {},
   "outputs": [
    {
     "name": "stdout",
     "output_type": "stream",
     "text": [
      "{\"x\": \"10\", \"y\": \"5\", \"a\": \"1\", \"total_sum\": \"16\"}\n"
     ]
    }
   ],
   "source": [
    "import json; print(json.dumps({k: repr(v) for k, v in globals().items() if not k.startswith(\"_\") and k not in (\"In\", \"Out\", \"json\") and not callable(v)}))"
   ]
  },
  {
   "cell_type": "code",
   "execution_count": null,
   "id": "04aa0b2e-6066-405d-8aa4-6c605a1c3ec3",
   "metadata": {},
   "outputs": [],
   "source": []
  }
 ],
 "metadata": {
  "kernelspec": {
   "display_name": "Python 3 (ipykernel)",
   "language": "python",
   "name": "python3"
  },
  "language_info": {
   "codemirror_mode": {
    "name": "ipython",
    "version": 3
   },
   "file_extension": ".py",
   "mimetype": "text/x-python",
   "name": "python",
   "nbconvert_exporter": "python",
   "pygments_lexer": "ipython3",
   "version": "3.11.1"
  }
 },
 "nbformat": 4,
 "nbformat_minor": 5
}
