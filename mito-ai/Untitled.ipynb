{
 "cells": [
  {
   "cell_type": "code",
   "execution_count": 1,
   "id": "e45a2574-6720-416b-af1a-f1125397e77f",
   "metadata": {},
   "outputs": [
    {
     "ename": "SyntaxError",
     "evalue": "unterminated string literal (detected at line 1) (1814187833.py, line 1)",
     "output_type": "error",
     "traceback": [
      "\u001b[0;36m  Cell \u001b[0;32mIn[1], line 1\u001b[0;36m\u001b[0m\n\u001b[0;31m    print('hello world\u001b[0m\n\u001b[0m          ^\u001b[0m\n\u001b[0;31mSyntaxError\u001b[0m\u001b[0;31m:\u001b[0m unterminated string literal (detected at line 1)\n"
     ]
    }
   ],
   "source": [
    "print('hello world"
   ]
  },
  {
   "cell_type": "code",
   "execution_count": 1,
   "id": "e8a0d14d-a615-403e-b993-743f9c1ce89d",
   "metadata": {},
   "outputs": [],
   "source": [
    "a = 0  # Define a with an initial value\n",
    "b = 5  # Define b with an initial value\n",
    "y = 1\n",
    "z = b + y"
   ]
  },
  {
   "cell_type": "code",
   "execution_count": 2,
   "id": "04aa0b2e-6066-405d-8aa4-6c605a1c3ec3",
   "metadata": {},
   "outputs": [],
   "source": [
    "import pandas as pd\n",
    "\n",
    "# Creating sample data and columns for the new dataframe\n",
    "data = {\n",
    "    'Name': ['Alice', 'Bob', 'Charlie'],\n",
    "    'Age': [25, 30, 35],\n",
    "    'City': ['New York', 'Los Angeles', 'Chicago']\n",
    "}\n",
    "columns = ['Name', 'Age', 'City']\n",
    "\n",
    "# Creating the new dataframe\n",
    "df = pd.DataFrame(data, columns=columns)"
   ]
  },
  {
   "cell_type": "code",
   "execution_count": null,
   "id": "89bc8863-155c-41fd-bba0-e76ff9e9226b",
   "metadata": {},
   "outputs": [],
   "source": [
    "AARON"
   ]
  },
  {
   "cell_type": "code",
   "execution_count": null,
   "id": "dd6942a3-f631-4bab-b405-8aaa4e5504d9",
   "metadata": {},
   "outputs": [],
   "source": [
    "import pandas as pd\n",
    "\n",
    "data = {\n",
    "    'Column1': [],\n",
    "    'Column2': []\n",
    "}\n",
    "\n",
    "df = pd.DataFrame(data)"
   ]
  },
  {
   "cell_type": "code",
   "execution_count": null,
   "id": "17ca9b56-07d1-4a5a-ba85-96e1bc2dc9d1",
   "metadata": {},
   "outputs": [],
   "source": [
    "import pandas as pd\n",
    "\n",
    "data = {\n",
    "    'Column1': [],\n",
    "    'Column2': []\n",
    "}\n",
    "\n",
    "df = pd.DataFrame(data)"
   ]
  }
 ],
 "metadata": {
  "kernelspec": {
   "display_name": "Python 3 (ipykernel)",
   "language": "python",
   "name": "python3"
  },
  "language_info": {
   "codemirror_mode": {
    "name": "ipython",
    "version": 3
   },
   "file_extension": ".py",
   "mimetype": "text/x-python",
   "name": "python",
   "nbconvert_exporter": "python",
   "pygments_lexer": "ipython3",
   "version": "3.11.1"
  }
 },
 "nbformat": 4,
 "nbformat_minor": 5
}
