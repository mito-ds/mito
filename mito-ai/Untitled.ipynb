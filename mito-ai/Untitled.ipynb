{
 "cells": [
  {
   "cell_type": "code",
   "execution_count": 1,
   "id": "7afab889-0367-422f-997a-1f28d52de9ef",
   "metadata": {},
   "outputs": [
    {
     "ename": "KeyError",
     "evalue": "'OPENAI_API_KEY'",
     "output_type": "error",
     "traceback": [
      "\u001b[0;31m---------------------------------------------------------------------------\u001b[0m",
      "\u001b[0;31mKeyError\u001b[0m                                  Traceback (most recent call last)",
      "Cell \u001b[0;32mIn[1], line 2\u001b[0m\n\u001b[1;32m      1\u001b[0m \u001b[38;5;28;01mimport\u001b[39;00m \u001b[38;5;21;01mos\u001b[39;00m\n\u001b[0;32m----> 2\u001b[0m \u001b[43mos\u001b[49m\u001b[38;5;241;43m.\u001b[39;49m\u001b[43menviron\u001b[49m\u001b[43m[\u001b[49m\u001b[38;5;124;43m'\u001b[39;49m\u001b[38;5;124;43mOPENAI_API_KEY\u001b[39;49m\u001b[38;5;124;43m'\u001b[39;49m\u001b[43m]\u001b[49m\n",
      "File \u001b[0;32m<frozen os>:679\u001b[0m, in \u001b[0;36m__getitem__\u001b[0;34m(self, key)\u001b[0m\n",
      "\u001b[0;31mKeyError\u001b[0m: 'OPENAI_API_KEY'"
     ]
    }
   ],
   "source": [
    "import os\n",
    "os.environ['OPENAI_API_KEY']"
   ]
  },
  {
   "cell_type": "code",
   "execution_count": null,
   "id": "c68c4b62-ee36-436b-9c04-c1f9fe4d5c0e",
   "metadata": {},
   "outputs": [],
   "source": []
  },
  {
   "cell_type": "code",
   "execution_count": 1,
   "id": "4c7519d0-b2ec-407c-9d15-d675f6a07dbd",
   "metadata": {
    "scrolled": true
   },
   "outputs": [
    {
     "name": "stdout",
     "output_type": "stream",
     "text": [
      "/Users/aarondiamond-reivich/Mito/mito/mito-ai/mito-ai/__init__.py:13: UserWarning: Importing 'mito-ai' outside a proper installation.\n",
      "  warnings.warn(\"Importing 'mito-ai' outside a proper installation.\")\n",
      "Extension package mito-ai took 0.1185s to import\n",
      "Disabling: mito-ai\n",
      "- Writing config: /Users/aarondiamond-reivich/Mito/mito/mito-ai/venv/etc/jupyter\n",
      "    - Validating mito-ai...\n",
      "      mito-ai  \u001b[32mOK\u001b[0m\n",
      "    - Extension successfully disabled.\n"
     ]
    }
   ],
   "source": [
    "!jupyter server extension disable mito-ai"
   ]
  },
  {
   "cell_type": "code",
   "execution_count": 1,
   "id": "208f3ce8-74eb-42d7-8219-9e008095351f",
   "metadata": {},
   "outputs": [
    {
     "name": "stdout",
     "output_type": "stream",
     "text": [
      "Config dir: /Users/aarondiamond-reivich/.jupyter\n",
      "\n",
      "Config dir: /Users/aarondiamond-reivich/Mito/mito/mito-ai/venv/etc/jupyter\n",
      "    jupyter_lsp \u001b[32menabled\u001b[0m\n",
      "    - Validating jupyter_lsp...\n",
      "      jupyter_lsp 2.2.5 \u001b[32mOK\u001b[0m\n",
      "    jupyter_server_terminals \u001b[32menabled\u001b[0m\n",
      "    - Validating jupyter_server_terminals...\n",
      "      jupyter_server_terminals 0.5.3 \u001b[32mOK\u001b[0m\n",
      "    jupyterlab \u001b[32menabled\u001b[0m\n",
      "    - Validating jupyterlab...\n",
      "      jupyterlab 4.2.5 \u001b[32mOK\u001b[0m\n",
      "    mito-ai \u001b[32menabled\u001b[0m\n",
      "    - Validating mito-ai...\n",
      "/Users/aarondiamond-reivich/Mito/mito/mito-ai/mito-ai/__init__.py:13: UserWarning: Importing 'mito-ai' outside a proper installation.\n",
      "  warnings.warn(\"Importing 'mito-ai' outside a proper installation.\")\n",
      "Extension package mito-ai took 0.1251s to import\n",
      "      mito-ai dev \u001b[32mOK\u001b[0m\n",
      "    notebook_shim \u001b[32menabled\u001b[0m\n",
      "    - Validating notebook_shim...\n",
      "      notebook_shim  \u001b[32mOK\u001b[0m\n",
      "\n",
      "Config dir: /usr/local/etc/jupyter\n",
      "\n"
     ]
    }
   ],
   "source": [
    "!jupyter server extension list"
   ]
  },
  {
   "cell_type": "code",
   "execution_count": null,
   "id": "94fc3fcd-89ac-460d-837c-e5add18637fa",
   "metadata": {},
   "outputs": [],
   "source": []
  },
  {
   "cell_type": "code",
   "execution_count": null,
   "id": "d1bdb56b-9f39-4afc-91a6-8e2ec92050b6",
   "metadata": {},
   "outputs": [],
   "source": []
  },
  {
   "cell_type": "code",
   "execution_count": 1,
   "id": "e8a0d14d-a615-403e-b993-743f9c1ce89d",
   "metadata": {},
   "outputs": [],
   "source": [
    "a = 0  # Define a with an initial value\n",
    "b = 5  # Define b with an initial value\n",
    "y = 1\n",
    "z = b + y"
   ]
  },
  {
   "cell_type": "code",
   "execution_count": 2,
   "id": "a8d30331-2265-4555-a3cb-ee3fe3f05502",
   "metadata": {
    "scrolled": true
   },
   "outputs": [
    {
     "ename": "ModuleNotFoundError",
     "evalue": "No module named 'pandas'",
     "output_type": "error",
     "traceback": [
      "\u001b[0;31m---------------------------------------------------------------------------\u001b[0m",
      "\u001b[0;31mModuleNotFoundError\u001b[0m                       Traceback (most recent call last)",
      "Cell \u001b[0;32mIn[2], line 4\u001b[0m\n\u001b[1;32m      1\u001b[0m \u001b[38;5;66;03m# Make sure to install pandas by running the following command in your terminal or command prompt:\u001b[39;00m\n\u001b[1;32m      2\u001b[0m \u001b[38;5;66;03m# pip install pandas\u001b[39;00m\n\u001b[0;32m----> 4\u001b[0m \u001b[38;5;28;01mimport\u001b[39;00m \u001b[38;5;21;01mpandas\u001b[39;00m \u001b[38;5;28;01mas\u001b[39;00m \u001b[38;5;21;01mpd\u001b[39;00m\n\u001b[1;32m      6\u001b[0m df \u001b[38;5;241m=\u001b[39m pd\u001b[38;5;241m.\u001b[39mDataFrame({\u001b[38;5;124m'\u001b[39m\u001b[38;5;124mA\u001b[39m\u001b[38;5;124m'\u001b[39m: [\u001b[38;5;241m1\u001b[39m, \u001b[38;5;241m2\u001b[39m, \u001b[38;5;241m3\u001b[39m]})\n\u001b[1;32m      7\u001b[0m \u001b[38;5;28mprint\u001b[39m(df)\n",
      "\u001b[0;31mModuleNotFoundError\u001b[0m: No module named 'pandas'"
     ]
    }
   ],
   "source": [
    "# Make sure to install pandas by running the following command in your terminal or command prompt:\n",
    "# pip install pandas\n",
    "\n",
    "import pandas as pd\n",
    "\n",
    "df = pd.DataFrame({'A': [1, 2, 3]})\n",
    "print(df)"
   ]
  },
  {
   "cell_type": "code",
   "execution_count": 14,
   "id": "f03112e3-b05c-48f0-946c-a4bc907e166c",
   "metadata": {},
   "outputs": [
    {
     "ename": "NameError",
     "evalue": "name 'df' is not defined",
     "output_type": "error",
     "traceback": [
      "\u001b[0;31m---------------------------------------------------------------------------\u001b[0m",
      "\u001b[0;31mNameError\u001b[0m                                 Traceback (most recent call last)",
      "Cell \u001b[0;32mIn[14], line 1\u001b[0m\n\u001b[0;32m----> 1\u001b[0m \u001b[43mdf\u001b[49m\n",
      "\u001b[0;31mNameError\u001b[0m: name 'df' is not defined"
     ]
    }
   ],
   "source": [
    "df"
   ]
  },
  {
   "cell_type": "code",
   "execution_count": null,
   "id": "09dc0070-40b3-4d37-bcaa-0d388aeba788",
   "metadata": {},
   "outputs": [],
   "source": []
  }
 ],
 "metadata": {
  "kernelspec": {
   "display_name": "Python 3 (ipykernel)",
   "language": "python",
   "name": "python3"
  },
  "language_info": {
   "codemirror_mode": {
    "name": "ipython",
    "version": 3
   },
   "file_extension": ".py",
   "mimetype": "text/x-python",
   "name": "python",
   "nbconvert_exporter": "python",
   "pygments_lexer": "ipython3",
   "version": "3.11.1"
  }
 },
 "nbformat": 4,
 "nbformat_minor": 5
}
