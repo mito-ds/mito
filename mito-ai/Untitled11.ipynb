{
 "cells": [
  {
   "cell_type": "code",
   "execution_count": 2,
   "id": "e8f4d64c-75b4-4c92-b3b8-c6480a49e5f4",
   "metadata": {},
   "outputs": [],
   "source": [
    "y = 10  # Assign a value to y before using it\n",
    "x = y"
   ]
  },
  {
   "cell_type": "code",
   "execution_count": null,
   "id": "2903bdb6-305b-4668-a9ff-9a5838e6b175",
   "metadata": {},
   "outputs": [],
   "source": []
  }
 ],
 "metadata": {
  "kernelspec": {
   "display_name": "Python 3 (ipykernel)",
   "language": "python",
   "name": "python3"
  },
  "language_info": {
   "codemirror_mode": {
    "name": "ipython",
    "version": 3
   },
   "file_extension": ".py",
   "mimetype": "text/x-python",
   "name": "python",
   "nbconvert_exporter": "python",
   "pygments_lexer": "ipython3",
   "version": "3.11.1"
  }
 },
 "nbformat": 4,
 "nbformat_minor": 5
}
