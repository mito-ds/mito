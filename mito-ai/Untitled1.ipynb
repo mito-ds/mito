{
 "cells": [
  {
   "cell_type": "code",
   "execution_count": 9,
   "id": "a46c12d9-10a2-46c7-b655-879312e46b8f",
   "metadata": {},
   "outputs": [],
   "source": [
    "my_var = 5\n",
    "my_second_var = 10"
   ]
  },
  {
   "cell_type": "code",
   "execution_count": 10,
   "id": "3009a238-b2f2-4066-9422-d50399235711",
   "metadata": {},
   "outputs": [],
   "source": [
    "my_third_var = 13"
   ]
  },
  {
   "cell_type": "code",
   "execution_count": 15,
   "id": "97cb1ff7-3a07-47d8-bae1-4c2c870799e3",
   "metadata": {},
   "outputs": [],
   "source": [
    "def xyz():\n",
    "    abc = 10"
   ]
  },
  {
   "cell_type": "code",
   "execution_count": 11,
   "id": "449d092d-97e4-4f6a-901b-35f82e816036",
   "metadata": {},
   "outputs": [
    {
     "name": "stderr",
     "output_type": "stream",
     "text": [
      "5482.20s - pydevd: Sending message related to process being replaced timed-out after 5 seconds\n"
     ]
    },
    {
     "name": "stdout",
     "output_type": "stream",
     "text": [
      "Collecting pandas\n",
      "  Using cached pandas-2.2.2-cp311-cp311-macosx_11_0_arm64.whl (11.3 MB)\n",
      "Collecting numpy>=1.23.2\n",
      "  Downloading numpy-2.1.1-cp311-cp311-macosx_14_0_arm64.whl (5.4 MB)\n",
      "\u001b[2K     \u001b[38;2;114;156;31m━━━━━━━━━━━━━━━━━━━━━━━━━━━━━━━━━━━━━━━━\u001b[0m \u001b[32m5.4/5.4 MB\u001b[0m \u001b[31m30.3 MB/s\u001b[0m eta \u001b[36m0:00:00\u001b[0m MB/s\u001b[0m eta \u001b[36m0:00:01\u001b[0m:01\u001b[0m\n",
      "\u001b[?25hRequirement already satisfied: python-dateutil>=2.8.2 in ./venv/lib/python3.11/site-packages (from pandas) (2.9.0.post0)\n",
      "Collecting pytz>=2020.1\n",
      "  Using cached pytz-2024.1-py2.py3-none-any.whl (505 kB)\n",
      "Requirement already satisfied: tzdata>=2022.7 in ./venv/lib/python3.11/site-packages (from pandas) (2024.1)\n",
      "Requirement already satisfied: six>=1.5 in ./venv/lib/python3.11/site-packages (from python-dateutil>=2.8.2->pandas) (1.16.0)\n",
      "Installing collected packages: pytz, numpy, pandas\n",
      "Successfully installed numpy-2.1.1 pandas-2.2.2 pytz-2024.1\n",
      "\n",
      "\u001b[1m[\u001b[0m\u001b[34;49mnotice\u001b[0m\u001b[1;39;49m]\u001b[0m\u001b[39;49m A new release of pip available: \u001b[0m\u001b[31;49m22.3.1\u001b[0m\u001b[39;49m -> \u001b[0m\u001b[32;49m24.2\u001b[0m\n",
      "\u001b[1m[\u001b[0m\u001b[34;49mnotice\u001b[0m\u001b[1;39;49m]\u001b[0m\u001b[39;49m To update, run: \u001b[0m\u001b[32;49mpip install --upgrade pip\u001b[0m\n"
     ]
    }
   ],
   "source": [
    "!pip install pandas"
   ]
  },
  {
   "cell_type": "code",
   "execution_count": 12,
   "id": "344650c4-6326-4a67-9bb8-8d18468224fd",
   "metadata": {},
   "outputs": [],
   "source": [
    "import pandas as pd\n",
    "df = pd.DataFrame({'A': [1,2,3]})"
   ]
  },
  {
   "cell_type": "code",
   "execution_count": 17,
   "id": "c539262d-f166-4e14-8d5b-5a4a02ef71ca",
   "metadata": {},
   "outputs": [],
   "source": [
    "variable = 7"
   ]
  },
  {
   "cell_type": "code",
   "execution_count": 1,
   "id": "eaa124a0-e811-4df7-a978-4394369007fd",
   "metadata": {},
   "outputs": [
    {
     "data": {
      "text/plain": [
       "{'__name__': '__main__',\n",
       " '__doc__': 'Automatically created module for IPython interactive environment',\n",
       " '__package__': None,\n",
       " '__loader__': None,\n",
       " '__spec__': None,\n",
       " '__builtin__': <module 'builtins' (built-in)>,\n",
       " '__builtins__': <module 'builtins' (built-in)>,\n",
       " '_ih': ['', 'globals()'],\n",
       " '_oh': {},\n",
       " '_dh': [PosixPath('/Users/aarondiamond-reivich/Mito/mito/mito-ai')],\n",
       " 'In': ['', 'globals()'],\n",
       " 'Out': {},\n",
       " 'get_ipython': <bound method InteractiveShell.get_ipython of <ipykernel.zmqshell.ZMQInteractiveShell object at 0x109147890>>,\n",
       " 'exit': <IPython.core.autocall.ZMQExitAutocall at 0x109154a10>,\n",
       " 'quit': <IPython.core.autocall.ZMQExitAutocall at 0x109154a10>,\n",
       " 'open': <function io.open(file, mode='r', buffering=-1, encoding=None, errors=None, newline=None, closefd=True, opener=None)>,\n",
       " '_': '',\n",
       " '__': '',\n",
       " '___': '',\n",
       " '__session__': '/Users/aarondiamond-reivich/Mito/mito/mito-ai/Untitled1.ipynb',\n",
       " '_i': '',\n",
       " '_ii': '',\n",
       " '_iii': '',\n",
       " '_i1': 'globals()'}"
      ]
     },
     "execution_count": 1,
     "metadata": {},
     "output_type": "execute_result"
    }
   ],
   "source": [
    "globals()"
   ]
  },
  {
   "cell_type": "code",
   "execution_count": 8,
   "id": "e838502c-4caf-4264-9413-85a08a9dcb52",
   "metadata": {},
   "outputs": [
    {
     "data": {
      "text/plain": [
       "{'__name__': '__main__',\n",
       " '__doc__': 'Automatically created module for IPython interactive environment',\n",
       " '__package__': None,\n",
       " '__loader__': None,\n",
       " '__spec__': None,\n",
       " '__builtin__': <module 'builtins' (built-in)>,\n",
       " '__builtins__': <module 'builtins' (built-in)>,\n",
       " '_ih': ['',\n",
       "  'globals()',\n",
       "  'locals()',\n",
       "  'my_var = 5',\n",
       "  'locals()',\n",
       "  'my_var = 5\\nmy_second_var = 10',\n",
       "  'locals()',\n",
       "  'my_third_var = 13',\n",
       "  'locals()'],\n",
       " '_oh': {1: {...}, 2: {...}, 4: {...}, 6: {...}},\n",
       " '_dh': [PosixPath('/Users/aarondiamond-reivich/Mito/mito/mito-ai')],\n",
       " 'In': ['',\n",
       "  'globals()',\n",
       "  'locals()',\n",
       "  'my_var = 5',\n",
       "  'locals()',\n",
       "  'my_var = 5\\nmy_second_var = 10',\n",
       "  'locals()',\n",
       "  'my_third_var = 13',\n",
       "  'locals()'],\n",
       " 'Out': {1: {...}, 2: {...}, 4: {...}, 6: {...}},\n",
       " 'get_ipython': <bound method InteractiveShell.get_ipython of <ipykernel.zmqshell.ZMQInteractiveShell object at 0x109147890>>,\n",
       " 'exit': <IPython.core.autocall.ZMQExitAutocall at 0x109154a10>,\n",
       " 'quit': <IPython.core.autocall.ZMQExitAutocall at 0x109154a10>,\n",
       " 'open': <function io.open(file, mode='r', buffering=-1, encoding=None, errors=None, newline=None, closefd=True, opener=None)>,\n",
       " '_': {...},\n",
       " '__': {...},\n",
       " '___': {...},\n",
       " '__session__': '/Users/aarondiamond-reivich/Mito/mito/mito-ai/Untitled1.ipynb',\n",
       " '_i': 'my_third_var = 13',\n",
       " '_ii': 'locals()',\n",
       " '_iii': 'my_var = 5\\nmy_second_var = 10',\n",
       " '_i1': 'globals()',\n",
       " '_1': {...},\n",
       " '_i2': 'locals()',\n",
       " '_2': {...},\n",
       " '_i3': 'my_var = 5',\n",
       " 'my_var': 5,\n",
       " '_i4': 'locals()',\n",
       " '_4': {...},\n",
       " '_i5': 'my_var = 5\\nmy_second_var = 10',\n",
       " 'my_second_var': 10,\n",
       " '_i6': 'locals()',\n",
       " '_6': {...},\n",
       " '_i7': 'my_third_var = 13',\n",
       " 'my_third_var': 13,\n",
       " '_i8': 'locals()'}"
      ]
     },
     "execution_count": 8,
     "metadata": {},
     "output_type": "execute_result"
    }
   ],
   "source": [
    "locals()"
   ]
  },
  {
   "cell_type": "code",
   "execution_count": null,
   "id": "d31f4ca5-80d5-4a70-9445-036ec3c464e8",
   "metadata": {},
   "outputs": [],
   "source": []
  }
 ],
 "metadata": {
  "kernelspec": {
   "display_name": "Python 3 (ipykernel)",
   "language": "python",
   "name": "python3"
  },
  "language_info": {
   "codemirror_mode": {
    "name": "ipython",
    "version": 3
   },
   "file_extension": ".py",
   "mimetype": "text/x-python",
   "name": "python",
   "nbconvert_exporter": "python",
   "pygments_lexer": "ipython3",
   "version": "3.12.4"
  }
 },
 "nbformat": 4,
 "nbformat_minor": 5
}
