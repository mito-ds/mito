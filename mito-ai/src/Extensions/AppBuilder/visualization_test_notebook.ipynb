{
 "cells": [
  {
   "cell_type": "markdown",
   "metadata": {
    "include-cell-in-app": true
   },
   "source": [
    "# Comprehensive Visualization Test Notebook\n",
    "This notebook contains a variety of visualization patterns to test the extraction and transformation functions"
   ]
  },
  {
   "cell_type": "code",
   "execution_count": null,
   "metadata": {
    "include-cell-in-app": true
   },
   "outputs": [],
   "source": [
    "import pandas as pd\n",
    "import numpy as np\n",
    "import matplotlib.pyplot as plt\n",
    "import plotly.express as px\n",
    "import plotly.graph_objects as go\n",
    "from plotly.subplots import make_subplots\n",
    "import plotly.figure_factory as ff"
   ]
  },
  {
   "cell_type": "markdown",
   "metadata": {
    "include-cell-in-app": true
   },
   "source": [
    "This cell doesn't contain visualizations but creates data for later use"
   ]
  },
  {
   "cell_type": "code",
   "execution_count": null,
   "metadata": {
    "include-cell-in-app": true
   },
   "outputs": [],
   "source": [
    "# Create a sample dataframe with date range\n",
    "dates = pd.date_range(start='2023-01-01', periods=100, freq='D')\n",
    "values = np.random.randn(100).cumsum()\n",
    "time_series_df = pd.DataFrame({'date': dates, 'value': values})\n",
    "filtered_df = time_series_df[time_series_df['value'] > 0]"
   ]
  },
  {
   "cell_type": "markdown",
   "metadata": {
    "include-cell-in-app": true
   },
   "source": [
    "## TEST CASE 1: Basic Matplotlib, standard pattern\n",
    "Common matplotlib pattern with figure variable"
   ]
  },
  {
   "cell_type": "code",
   "execution_count": null,
   "metadata": {
    "include-cell-in-app": true
   },
   "outputs": [],
   "source": [
    "fig = plt.figure(figsize=(10, 5))\n",
    "plt.plot(filtered_df['date'], filtered_df['value'], marker='o', linestyle='-')\n",
    "plt.title('Filtered Time Series (Value > 0) - Matplotlib')\n",
    "plt.xlabel('Date')\n",
    "plt.ylabel('Value')\n",
    "plt.grid(True)\n",
    "plt.tight_layout()\n",
    "plt.show()"
   ]
  },
  {
   "cell_type": "markdown",
   "metadata": {
    "include-cell-in-app": true
   },
   "source": [
    "## TEST CASE 2: Matplotlib without explicit figure variable\n",
    "No explicit figure variable is created, just using plt directly"
   ]
  },
  {
   "cell_type": "code",
   "execution_count": null,
   "metadata": {
    "include-cell-in-app": true
   },
   "outputs": [],
   "source": [
    "plt.figure(figsize=(10, 5))\n",
    "plt.scatter(filtered_df['date'], filtered_df['value'], color='red', alpha=0.6)\n",
    "plt.title('Scatter Plot - Direct plt')\n",
    "plt.show()"
   ]
  },
  {
   "cell_type": "markdown",
   "metadata": {
    "include-cell-in-app": true
   },
   "source": [
    "## TEST CASE 3: Matplotlib subplots\n",
    "Test with subplots which returns both fig and ax variables"
   ]
  },
  {
   "cell_type": "code",
   "execution_count": null,
   "metadata": {
    "include-cell-in-app": true
   },
   "outputs": [],
   "source": [
    "fig, ax = plt.subplots(figsize=(12, 6))\n",
    "ax.plot(filtered_df['date'], filtered_df['value'], 'g-')\n",
    "ax.set_title('Subplots Pattern')\n",
    "ax.set_xlabel('Date')\n",
    "ax.set_ylabel('Value')\n",
    "ax.grid(True)\n",
    "fig.tight_layout()\n",
    "plt.show()"
   ]
  },
  {
   "cell_type": "markdown",
   "metadata": {
    "include-cell-in-app": true
   },
   "source": [
    "## TEST CASE 4: Multiple subplots\n",
    "Test with multiple subplots in grid layout"
   ]
  },
  {
   "cell_type": "code",
   "execution_count": null,
   "metadata": {
    "include-cell-in-app": true
   },
   "outputs": [],
   "source": [
    "fig, axs = plt.subplots(2, 2, figsize=(14, 10))\n",
    "axs[0, 0].plot(filtered_df['date'], filtered_df['value'], 'b-')\n",
    "axs[0, 0].set_title('Subplot 1')\n",
    "\n",
    "axs[0, 1].scatter(filtered_df['date'], filtered_df['value'], color='red')\n",
    "axs[0, 1].set_title('Subplot 2')\n",
    "\n",
    "axs[1, 0].bar(filtered_df['date'][:10], filtered_df['value'][:10])\n",
    "axs[1, 0].set_title('Subplot 3')\n",
    "\n",
    "axs[1, 1].hist(filtered_df['value'], bins=20)\n",
    "axs[1, 1].set_title('Subplot 4')\n",
    "\n",
    "fig.tight_layout()\n",
    "fig.show()  # Using fig.show() instead of plt.show()"
   ]
  },
  {
   "cell_type": "markdown",
   "metadata": {
    "include-cell-in-app": true
   },
   "source": [
    "## TEST CASE 5: Plotly Express\n",
    "Plotly Express is a high-level interface to Plotly"
   ]
  },
  {
   "cell_type": "code",
   "execution_count": null,
   "metadata": {
    "include-cell-in-app": true
   },
   "outputs": [],
   "source": [
    "fig = px.line(filtered_df, x='date', y='value', \n",
    "              title='Filtered Time Series (Value > 0) - Plotly',\n",
    "              markers=True)\n",
    "fig.show()"
   ]
  },
  {
   "cell_type": "markdown",
   "metadata": {
    "include-cell-in-app": true
   },
   "source": [
    "## TEST CASE 6: Plotly Graph Objects\n",
    "Lower-level Plotly interface"
   ]
  },
  {
   "cell_type": "code",
   "execution_count": null,
   "metadata": {
    "include-cell-in-app": true
   },
   "outputs": [],
   "source": [
    "fig = go.Figure()\n",
    "fig.add_trace(go.Scatter(x=filtered_df['date'], y=filtered_df['value'],\n",
    "                         mode='lines+markers', name='Values'))\n",
    "fig.update_layout(title='Plotly Graph Objects Example',\n",
    "                  xaxis_title='Date',\n",
    "                  yaxis_title='Value')\n",
    "fig.show()"
   ]
  },
  {
   "cell_type": "markdown",
   "metadata": {
    "include-cell-in-app": true
   },
   "source": [
    "## TEST CASE 7: Plotly Subplots\n",
    "Test with plotly subplots"
   ]
  },
  {
   "cell_type": "code",
   "execution_count": null,
   "metadata": {
    "include-cell-in-app": true
   },
   "outputs": [],
   "source": [
    "subfig = make_subplots(rows=1, cols=2, \n",
    "                     subplot_titles=('Line Plot', 'Scatter Plot'))\n",
    "\n",
    "subfig.add_trace(\n",
    "    go.Scatter(x=filtered_df['date'], y=filtered_df['value'], mode='lines'),\n",
    "    row=1, col=1\n",
    ")\n",
    "\n",
    "subfig.add_trace(\n",
    "    go.Scatter(x=filtered_df['date'], y=filtered_df['value'], mode='markers'),\n",
    "    row=1, col=2\n",
    ")\n",
    "\n",
    "subfig.update_layout(height=500, width=1000, title_text=\"Plotly Subplots Example\")\n",
    "subfig.show()"
   ]
  },
  {
   "cell_type": "markdown",
   "metadata": {
    "include-cell-in-app": true
   },
   "source": [
    "## TEST CASE 8: Plotly Figure Factory\n",
    "Test with Plotly Figure Factory"
   ]
  },
  {
   "cell_type": "code",
   "execution_count": null,
   "metadata": {
    "include-cell-in-app": true
   },
   "outputs": [],
   "source": [
    "hist_data = [filtered_df['value']]\n",
    "group_labels = ['Value']\n",
    "\n",
    "fig_ff = ff.create_distplot(hist_data, group_labels)\n",
    "fig_ff.update_layout(title_text='Distribution Plot with Figure Factory')\n",
    "fig_ff.show()"
   ]
  },
  {
   "cell_type": "markdown",
   "metadata": {
    "include-cell-in-app": true
   },
   "source": [
    "## TEST CASE 9: Complex visualization with intermediate variables\n",
    "Test with complex pattern using intermediate variables"
   ]
  },
  {
   "cell_type": "code",
   "execution_count": null,
   "metadata": {
    "include-cell-in-app": true
   },
   "outputs": [],
   "source": [
    "# Create a figure with subplots\n",
    "fig, axs = plt.subplots(2, 1, figsize=(12, 10), sharex=True)\n",
    "\n",
    "# Create a variable with plot elements, not the figure itself\n",
    "line1 = axs[0].plot(filtered_df['date'], filtered_df['value'], 'r-', label='Value')\n",
    "axs[0].set_title('Time Series')\n",
    "axs[0].set_ylabel('Value')\n",
    "axs[0].legend()\n",
    "\n",
    "# Second subplot with different data\n",
    "bar1 = axs[1].bar(filtered_df['date'][::10], filtered_df['value'][::10], alpha=0.7)\n",
    "axs[1].set_title('Sampled Data')\n",
    "axs[1].set_xlabel('Date')\n",
    "axs[1].set_ylabel('Value')\n",
    "\n",
    "plt.tight_layout()\n",
    "plt.show()"
   ]
  },
  {
   "cell_type": "markdown",
   "metadata": {
    "include-cell-in-app": true
   },
   "source": [
    "## TEST CASE 10: Visualization function that returns a plot\n",
    "Test with a function that returns a visualization"
   ]
  },
  {
   "cell_type": "code",
   "execution_count": null,
   "metadata": {
    "include-cell-in-app": true
   },
   "outputs": [],
   "source": [
    "def create_plot(data):\n",
    "    fig, ax = plt.subplots(figsize=(10, 5))\n",
    "    ax.plot(data['date'], data['value'], 'g-o')\n",
    "    ax.set_title('Plot from Function')\n",
    "    return fig\n",
    "\n",
    "# This should be detected - the function returns a figure\n",
    "result_fig = create_plot(filtered_df)\n",
    "plt.show()"
   ]
  },
  {
   "cell_type": "markdown",
   "metadata": {
    "include-cell-in-app": true
   },
   "source": [
    "## TEST CASE 11: Commented out visualization code\n",
    "Test detection of visualizations in commented code"
   ]
  },
  {
   "cell_type": "code",
   "execution_count": null,
   "metadata": {
    "include-cell-in-app": true
   },
   "outputs": [],
   "source": [
    "# fig = plt.figure(figsize=(8, 4))\n",
    "# plt.plot(filtered_df['date'], filtered_df['value'])\n",
    "# plt.show()"
   ]
  },
  {
   "cell_type": "markdown",
   "metadata": {
    "include-cell-in-app": true
   },
   "source": [
    "## TEST CASE 12: Edge case - similarly named variables\n",
    "Variables with similar names to visualization libraries"
   ]
  },
  {
   "cell_type": "code",
   "execution_count": null,
   "metadata": {
    "include-cell-in-app": true
   },
   "outputs": [],
   "source": [
    "pltx = filtered_df.copy()  # Not a plot\n",
    "pltx['value2'] = pltx['value'] * 2\n",
    "\n",
    "# This is an actual plot\n",
    "fig = plt.figure(figsize=(8, 4))\n",
    "plt.plot(pltx['date'], pltx['value2'])\n",
    "plt.title('Testing similarly named variables')\n",
    "plt.show()"
   ]
  },
  {
   "cell_type": "markdown",
   "metadata": {
    "include-cell-in-app": true
   },
   "source": [
    "## TEST CASE 13: Edge case - visualization with unusual names\n",
    "Unusual variable names for visualizations"
   ]
  },
  {
   "cell_type": "code",
   "execution_count": null,
   "metadata": {
    "include-cell-in-app": true
   },
   "outputs": [],
   "source": [
    "_123fig = plt.figure(figsize=(8, 4))\n",
    "plt.plot(filtered_df['date'], filtered_df['value'])\n",
    "plt.title('Unusual variable name')\n",
    "plt.show()"
   ]
  },
  {
   "cell_type": "markdown",
   "metadata": {
    "include-cell-in-app": true
   },
   "source": [
    "## TEST CASE 14: Visualization with chained methods\n",
    "Plotly with chained methods on a single line"
   ]
  },
  {
   "cell_type": "code",
   "execution_count": null,
   "metadata": {
    "include-cell-in-app": true
   },
   "outputs": [],
   "source": [
    "fig = (px.line(filtered_df, x='date', y='value')\n",
    "       .update_traces(mode='markers+lines')\n",
    "       .update_layout(title='Chained Methods Plot'))\n",
    "fig.show()"
   ]
  },
  {
   "cell_type": "markdown",
   "metadata": {
    "include-cell-in-app": true
   },
   "source": [
    "## TEST CASE 15: Multiple visualizations in one cell\n",
    "Creating multiple independent visualizations in one cell"
   ]
  },
  {
   "cell_type": "code",
   "execution_count": null,
   "metadata": {
    "include-cell-in-app": true
   },
   "outputs": [],
   "source": [
    "fig1 = plt.figure(figsize=(8, 4))\n",
    "plt.plot(filtered_df['date'], filtered_df['value'], 'b-')\n",
    "plt.title('First plot')\n",
    "plt.show()\n",
    "\n",
    "fig2 = plt.figure(figsize=(8, 4))\n",
    "plt.scatter(filtered_df['date'], filtered_df['value'], c='red')\n",
    "plt.title('Second plot')\n",
    "plt.show()"
   ]
  },
  {
   "cell_type": "markdown",
   "metadata": {
    "include-cell-in-app": true
   },
   "source": [
    "## TEST CASE 16: Alternative show pattern\n",
    "Different ways to call show"
   ]
  },
  {
   "cell_type": "code",
   "execution_count": null,
   "metadata": {
    "include-cell-in-app": true
   },
   "outputs": [],
   "source": [
    "import matplotlib.pyplot as plt\n",
    "fig = plt.figure(figsize=(8, 4))\n",
    "plt.plot(filtered_df['date'], filtered_df['value'])\n",
    "plt.title('Alternative show pattern')\n",
    "import matplotlib.pyplot as pyplot\n",
    "pyplot.show()  # Using the full name"
   ]
  },
  {
   "cell_type": "markdown",
   "metadata": {
    "include-cell-in-app": true
   },
   "source": [
    "## TEST CASE 17: No visualization variables\n",
    "Code without any visualization"
   ]
  },
  {
   "cell_type": "code",
   "execution_count": null,
   "metadata": {
    "include-cell-in-app": true
   },
   "outputs": [],
   "source": []
  },
  {
   "cell_type": "code",
   "execution_count": null,
   "metadata": {
    "include-cell-in-app": true
   },
   "outputs": [],
   "source": [
    "result = filtered_df['value'].mean()\n",
    "print(f\"Mean value: {result}\")\n",
    "summary_stats = filtered_df.describe()\n",
    "print(summary_stats)"
   ]
  },
  {
   "cell_type": "markdown",
   "metadata": {
    "include-cell-in-app": true
   },
   "source": [
    "## TEST CASE 18: Inline method with no explicit show call\n",
    "Some environments automatically display without show()"
   ]
  },
  {
   "cell_type": "code",
   "execution_count": null,
   "metadata": {
    "include-cell-in-app": true
   },
   "outputs": [],
   "source": [
    "plt.figure(figsize=(8, 4))\n",
    "plt.plot(filtered_df['date'][-30:], filtered_df['value'][-30:], 'r-')\n",
    "plt.title('Auto-display without show')\n",
    "# No explicit show() call here - some environments will display anyway"
   ]
  },
  {
   "cell_type": "markdown",
   "metadata": {
    "include-cell-in-app": true
   },
   "source": [
    "## TEST CASE 19: Multi-line variable assignment with visualization\n",
    "Test with multi-line variable assignment"
   ]
  },
  {
   "cell_type": "code",
   "execution_count": null,
   "metadata": {
    "include-cell-in-app": true
   },
   "outputs": [],
   "source": [
    "fig = (\n",
    "    plt.figure(\n",
    "        figsize=(10, 6)\n",
    "    )\n",
    ")\n",
    "plt.plot(filtered_df['date'], filtered_df['value'])\n",
    "plt.title('Multi-line assignment')\n",
    "plt.show()"
   ]
  },
  {
   "cell_type": "markdown",
   "metadata": {
    "include-cell-in-app": true
   },
   "source": [
    "## TEST CASE 20: Visualization with misleading variable names\n",
    "Variables that look like visualizations but aren't"
   ]
  },
  {
   "cell_type": "code",
   "execution_count": null,
   "metadata": {
    "include-cell-in-app": true
   },
   "outputs": [],
   "source": [
    "show = filtered_df['value'].max()  # Variable named 'show'\n",
    "figure = filtered_df.shape[0]      # Variable named 'figure'\n",
    "\n",
    "# Actual visualization with properly named variable\n",
    "real_fig = plt.figure(figsize=(8, 4))\n",
    "plt.plot(filtered_df['date'], filtered_df['value'])\n",
    "plt.title(f'Max value: {show}, Count: {figure}')\n",
    "plt.show()"
   ]
  }
 ],
 "metadata": {
  "kernelspec": {
   "display_name": "Python 3 (ipykernel)",
   "language": "python",
   "name": "python3"
  },
  "language_info": {
   "codemirror_mode": {
    "name": "ipython",
    "version": 3
   },
   "file_extension": ".py",
   "mimetype": "text/x-python",
   "name": "python",
   "nbconvert_exporter": "python",
   "pygments_lexer": "ipython3",
   "version": "3.11.1"
  }
 },
 "nbformat": 4,
 "nbformat_minor": 4
}
