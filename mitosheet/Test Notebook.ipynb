{
 "cells": [
  {
   "cell_type": "code",
   "execution_count": null,
   "id": "abfa86af-67c3-49e9-8172-11ed3583bfdf",
   "metadata": {},
   "outputs": [],
   "source": [
    "import pandas as pd\n",
    "my_dataframe = pd.DataFrame({'A': [1,2,3]})"
   ]
  },
  {
   "cell_type": "code",
   "execution_count": null,
   "id": "df0e90a4-37ba-4790-b6e0-9ddc89eaecfb",
   "metadata": {},
   "outputs": [],
   "source": [
    "my_dataframe"
   ]
  },
  {
   "cell_type": "code",
   "execution_count": null,
   "id": "19e46e60-e04c-4358-bb51-be28dafe6348",
   "metadata": {},
   "outputs": [],
   "source": [
    "# Mito should not overwrite this. Instead it should first do nothing, then once you make an edit, it should add \n",
    "# a new code cell above this cell and write to it."
   ]
  },
  {
   "cell_type": "code",
   "execution_count": null,
   "id": "b1311a09-6572-4015-98c2-28f35bb8c8fa",
   "metadata": {},
   "outputs": [],
   "source": [
    "my_dataframe"
   ]
  },
  {
   "cell_type": "code",
   "execution_count": null,
   "id": "8bb5460a-0202-4d0d-ac11-888783266732",
   "metadata": {},
   "outputs": [],
   "source": []
  },
  {
   "cell_type": "code",
   "execution_count": null,
   "id": "09fa95c1-9618-4556-bd2b-9d6008d80478",
   "metadata": {},
   "outputs": [],
   "source": [
    "# Mito should write to the code cell above. It should not add a new code cell"
   ]
  }
 ],
 "metadata": {
  "kernelspec": {
   "display_name": "Python 3 (ipykernel)",
   "language": "python",
   "name": "python3"
  },
  "language_info": {
   "codemirror_mode": {
    "name": "ipython",
    "version": 3
   },
   "file_extension": ".py",
   "mimetype": "text/x-python",
   "name": "python",
   "nbconvert_exporter": "python",
   "pygments_lexer": "ipython3",
   "version": "3.11.1"
  }
 },
 "nbformat": 4,
 "nbformat_minor": 5
}
