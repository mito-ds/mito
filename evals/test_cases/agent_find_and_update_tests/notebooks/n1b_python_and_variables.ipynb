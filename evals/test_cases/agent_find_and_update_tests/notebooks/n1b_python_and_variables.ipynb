{
 "cells": [
  {
   "cell_type": "markdown",
   "id": "4cb62324",
   "metadata": {},
   "source": [
    "# Python and variables\n",
    "45 min.\n",
    "\n",
    "## Comments in python\n",
    "\n",
    "\n",
    "You can use \"#\" to add comments. Adding comments to your code helps you stay organized and remember what each section of code is supposed to do.\n",
    "\n",
    "Run the code below to see the effect of adding and removing a comment."
   ]
  },
  {
   "cell_type": "code",
   "execution_count": 2,
   "id": "212f7310",
   "metadata": {},
   "outputs": [
    {
     "name": "stdout",
     "output_type": "stream",
     "text": [
      "world\n"
     ]
    }
   ],
   "source": [
    "# print(\"hello\")\n",
    "print(\"world\")"
   ]
  },
  {
   "cell_type": "markdown",
   "id": "ef590e12",
   "metadata": {},
   "source": [
    "## Variables\n",
    "\n",
    "Variables are named buckets that store data.\n",
    "\n",
    "E.g. `i = 1` will store the integer `1` into the variable called `i`.\n",
    "\n",
    "Below, store the integer 1 in the variable i and print it."
   ]
  },
  {
   "cell_type": "code",
   "execution_count": 3,
   "id": "ccd1c6ce",
   "metadata": {},
   "outputs": [],
   "source": [
    "# TODO: Replace me with your code"
   ]
  },
  {
   "cell_type": "markdown",
   "id": "7c2f0f64",
   "metadata": {},
   "source": [
    "Python best practices says that variable names should:\n",
    "1. be lowercase\n",
    "2. each word should be separated by an underscore instead of space\n",
    "3. should not start with numbers  \n",
    "\n",
    "Run the below cells. They will throw error messages. Read the error messages, try to understand them, and then try to correct the code.  \n",
    "\n",
    "\n",
    "Getting good at understanding error messages is a critical part of becoming an effective programmer."
   ]
  },
  {
   "cell_type": "code",
   "execution_count": 4,
   "id": "f60302cd",
   "metadata": {},
   "outputs": [],
   "source": [
    "my_number = 5"
   ]
  },
  {
   "cell_type": "code",
   "execution_count": 5,
   "id": "a323634d",
   "metadata": {},
   "outputs": [],
   "source": [
    "number = 5"
   ]
  },
  {
   "cell_type": "markdown",
   "id": "82e8d179",
   "metadata": {},
   "source": [
    "In Jupyter, last line of Python code in each code cell is automatically printed if it is not stored in a variable. Sometimes this is helpful to immedietly see the results of your actions. \n",
    "\n",
    "Run the below cells. Predict the output before running."
   ]
  },
  {
   "cell_type": "code",
   "execution_count": 6,
   "id": "beabed2d",
   "metadata": {},
   "outputs": [],
   "source": [
    "k = 1"
   ]
  },
  {
   "cell_type": "code",
   "execution_count": 7,
   "id": "c934b7a0",
   "metadata": {},
   "outputs": [
    {
     "data": {
      "text/plain": [
       "1"
      ]
     },
     "execution_count": 7,
     "metadata": {},
     "output_type": "execute_result"
    }
   ],
   "source": [
    "1"
   ]
  },
  {
   "cell_type": "code",
   "execution_count": 8,
   "id": "d46a618f",
   "metadata": {},
   "outputs": [
    {
     "data": {
      "text/plain": [
       "2"
      ]
     },
     "execution_count": 8,
     "metadata": {},
     "output_type": "execute_result"
    }
   ],
   "source": [
    "m = 2\n",
    "m"
   ]
  },
  {
   "cell_type": "code",
   "execution_count": 9,
   "id": "a0caf95a",
   "metadata": {},
   "outputs": [
    {
     "data": {
      "text/plain": [
       "4"
      ]
     },
     "execution_count": 9,
     "metadata": {},
     "output_type": "execute_result"
    }
   ],
   "source": [
    "x = 3\n",
    "y = 4\n",
    "x\n",
    "y"
   ]
  },
  {
   "cell_type": "markdown",
   "id": "e53170ab",
   "metadata": {},
   "source": [
    "## Python Data Types\n",
    "\n",
    "Python has many data types. Here are the most important ones that we'll cover\n",
    "\n",
    "* Integer\n",
    "* Float \n",
    "* String\n",
    "* Boolean\n",
    "* None \n",
    "* List\n",
    "* Dict\n",
    "\n",
    "There are more, but they aren't super relevant to automating reports, so we'll ignore them for now.\n",
    "\n",
    "Add a comment to each of the following 6 cells that lists each data type.  If you're not sure what it is, try wrapping the data type in the type(\"Hello\") function and checking the results."
   ]
  },
  {
   "cell_type": "code",
   "execution_count": 10,
   "id": "5c92b14b",
   "metadata": {},
   "outputs": [
    {
     "data": {
      "text/plain": [
       "40"
      ]
     },
     "execution_count": 10,
     "metadata": {},
     "output_type": "execute_result"
    }
   ],
   "source": [
    "40"
   ]
  },
  {
   "cell_type": "code",
   "execution_count": 11,
   "id": "3a694714",
   "metadata": {},
   "outputs": [
    {
     "data": {
      "text/plain": [
       "'Hello World'"
      ]
     },
     "execution_count": 11,
     "metadata": {},
     "output_type": "execute_result"
    }
   ],
   "source": [
    "\"Hello World\""
   ]
  },
  {
   "cell_type": "code",
   "execution_count": 12,
   "id": "2d36e517",
   "metadata": {},
   "outputs": [
    {
     "data": {
      "text/plain": [
       "True"
      ]
     },
     "execution_count": 12,
     "metadata": {},
     "output_type": "execute_result"
    }
   ],
   "source": [
    "True"
   ]
  },
  {
   "cell_type": "code",
   "execution_count": 13,
   "id": "f0921c3d",
   "metadata": {},
   "outputs": [
    {
     "data": {
      "text/plain": [
       "['surf', 'beach', 'water']"
      ]
     },
     "execution_count": 13,
     "metadata": {},
     "output_type": "execute_result"
    }
   ],
   "source": [
    "[\"surf\", \"beach\", \"water\"]"
   ]
  },
  {
   "cell_type": "code",
   "execution_count": 14,
   "id": "89e1a08d",
   "metadata": {},
   "outputs": [
    {
     "data": {
      "text/plain": [
       "{'sand': 'tiny grains', 'shell': 'sea creature home', 'wave': \"ocean's rhythm\"}"
      ]
     },
     "execution_count": 14,
     "metadata": {},
     "output_type": "execute_result"
    }
   ],
   "source": [
    "{\"sand\": \"tiny grains\", \"shell\": \"sea creature home\", \"wave\": \"ocean's rhythm\"}"
   ]
  },
  {
   "cell_type": "code",
   "execution_count": 15,
   "id": "21548183",
   "metadata": {},
   "outputs": [],
   "source": [
    "None"
   ]
  },
  {
   "cell_type": "code",
   "execution_count": 16,
   "id": "211748ae",
   "metadata": {},
   "outputs": [
    {
     "data": {
      "text/plain": [
       "3.14"
      ]
     },
     "execution_count": 16,
     "metadata": {},
     "output_type": "execute_result"
    }
   ],
   "source": [
    "3.14"
   ]
  },
  {
   "cell_type": "markdown",
   "id": "89d8186a",
   "metadata": {},
   "source": [
    "Below, uncomment the code and assign data to each variable datatype. Try doing it without checking the examples above! Typing them by hand will help getting familiar with them.   "
   ]
  },
  {
   "cell_type": "code",
   "execution_count": 17,
   "id": "8e002d2b",
   "metadata": {},
   "outputs": [],
   "source": [
    "# var_int = \n",
    "# var_float =\n",
    "# var_string =\n",
    "# var_bool =\n",
    "# var_none =\n",
    "# var_list =\n",
    "# var_dict ="
   ]
  },
  {
   "cell_type": "markdown",
   "id": "3a69dcd3",
   "metadata": {},
   "source": [
    "Now that we know the basic Python data types, let's learn how to use them in our code.\n",
    "\n",
    "## Int, Float, and Operators\n",
    "\n",
    "💡 To perform basic math, use the operators:  **+**, **-**, **\\***, **/**, **%**, **\\*\\***  \n",
    "🧑‍💻 Double check your mental math skills by using a few of these operators in code cell below.  "
   ]
  },
  {
   "cell_type": "code",
   "execution_count": 18,
   "id": "7aa8bbd3",
   "metadata": {},
   "outputs": [
    {
     "data": {
      "text/plain": [
       "7"
      ]
     },
     "execution_count": 18,
     "metadata": {},
     "output_type": "execute_result"
    }
   ],
   "source": [
    "3+4"
   ]
  },
  {
   "cell_type": "markdown",
   "id": "8c212808",
   "metadata": {},
   "source": [
    "💡 To compare two values, use the **operators**: **==**  , **!=** , **<** , **>** , **<=** , **>=**. \n",
    "\n",
    "It's important to note that the syntax to compare values differs between Excel and Python.   \n",
    "In Python, to check if two values are equal use **==** and to check if two values are not equal, use **!=**. \n",
    " \n",
    "🧑‍💻 Test these operators in the below cell by replacing the operation in between the two numbers.\n"
   ]
  },
  {
   "cell_type": "code",
   "execution_count": 19,
   "id": "c8c9043e",
   "metadata": {},
   "outputs": [
    {
     "data": {
      "text/plain": [
       "False"
      ]
     },
     "execution_count": 19,
     "metadata": {},
     "output_type": "execute_result"
    }
   ],
   "source": [
    "3 == 4"
   ]
  },
  {
   "cell_type": "markdown",
   "id": "6f1745d6",
   "metadata": {},
   "source": [
    "It's common to combine conditional operators with if conditions to control the flow of your code.\n",
    "\n",
    "💡 Python uses **indentation** to create blocks of code. See how the code to execute if the condition is true is indented underneath the conditional check.\n",
    "\n",
    "🧑‍💻  Run the below cell. "
   ]
  },
  {
   "cell_type": "code",
   "execution_count": 20,
   "id": "f4ce8f87",
   "metadata": {},
   "outputs": [
    {
     "name": "stdout",
     "output_type": "stream",
     "text": [
      "Yes, 10 is greater than 5\n"
     ]
    }
   ],
   "source": [
    "if 10 > 5:\n",
    "    print(\"Yes, 10 is greater than 5\")"
   ]
  },
  {
   "cell_type": "code",
   "execution_count": 21,
   "id": "d2d05a48",
   "metadata": {},
   "outputs": [
    {
     "name": "stdout",
     "output_type": "stream",
     "text": [
      "No good waves? Guess I'll just surf the internet then!\n"
     ]
    }
   ],
   "source": [
    "good_waves = False\n",
    "if good_waves:\n",
    "    print(\"Let's go surfing!🌊\")\n",
    "else:\n",
    "    print(\"No good waves? Guess I'll just surf the internet then!\")"
   ]
  },
  {
   "cell_type": "markdown",
   "id": "00c7f610",
   "metadata": {},
   "source": [
    "💡 Use the logical operators  **and**, **or**, and **not** to combine conditions.\n",
    "\n",
    "🧑‍💻 Run the below cells."
   ]
  },
  {
   "cell_type": "code",
   "execution_count": 22,
   "id": "5d4ac428",
   "metadata": {},
   "outputs": [
    {
     "name": "stdout",
     "output_type": "stream",
     "text": [
      "You're ready to go surfing!🏄‍♀️\n"
     ]
    }
   ],
   "source": [
    "good_waves = True\n",
    "surfboard = True\n",
    "\n",
    "if good_waves and surfboard:\n",
    "    print(\"You're ready to go surfing!🏄‍♀️\")"
   ]
  },
  {
   "cell_type": "code",
   "execution_count": 23,
   "id": "47f24d02",
   "metadata": {},
   "outputs": [
    {
     "name": "stdout",
     "output_type": "stream",
     "text": [
      "You are protected from sunburn while surfing!🌞\n"
     ]
    }
   ],
   "source": [
    "sunscreen = False\n",
    "clouds = True\n",
    "\n",
    "if sunscreen or clouds:\n",
    "    print(\"You are protected from sunburn while surfing!🌞\")"
   ]
  },
  {
   "cell_type": "code",
   "execution_count": 24,
   "id": "849ad9a9",
   "metadata": {},
   "outputs": [
    {
     "name": "stdout",
     "output_type": "stream",
     "text": [
      "It's safe to surf here!\n"
     ]
    }
   ],
   "source": [
    "sharks_nearby = False\n",
    "\n",
    "if not sharks_nearby:\n",
    "    print(\"It's safe to surf here!\")"
   ]
  },
  {
   "cell_type": "markdown",
   "id": "444e2627",
   "metadata": {},
   "source": [
    "💡 Sometimes you'll want to check a cascade of conditions.  \n",
    "You can do so using `elif` conditions, which only get checked if the prior `if` and `elif` conditions did not evaluate to True.\n",
    "\n",
    "🧑‍💻 Run the below cell. Try changing the country name. "
   ]
  },
  {
   "cell_type": "code",
   "execution_count": 25,
   "id": "11868a58",
   "metadata": {},
   "outputs": [
    {
     "name": "stdout",
     "output_type": "stream",
     "text": [
      "Hello from Canada!\n"
     ]
    }
   ],
   "source": [
    "country = 'Canada'\n",
    "\n",
    "if country == 'USA':\n",
    "    print('Hello from USA!')\n",
    "elif country == 'Canada':\n",
    "    print('Hello from Canada!')\n",
    "else:\n",
    "    print('Where am I?')"
   ]
  },
  {
   "cell_type": "markdown",
   "id": "ccd36d7c",
   "metadata": {},
   "source": [
    "Now it's your turn to practice!   \n",
    "\n",
    "🧑‍💻  Write code that compares two variables x and y and prints either \"x is greater than y\" or \"y is greater than x\".\n",
    "\n",
    "Hint: Make sure you also create the `x` and `y` variables so the code runs!"
   ]
  },
  {
   "cell_type": "code",
   "execution_count": 26,
   "id": "a30af7e4",
   "metadata": {},
   "outputs": [],
   "source": [
    "# TODO: Replace me with your code"
   ]
  },
  {
   "cell_type": "markdown",
   "id": "4de71842",
   "metadata": {},
   "source": [
    "🧑‍💻  Write a code cell that defines an integer my_val and then checks if the integer is greater 50 but smaller than 100."
   ]
  },
  {
   "cell_type": "code",
   "execution_count": 27,
   "id": "b92fa0e5",
   "metadata": {},
   "outputs": [],
   "source": [
    "# TODO: Replace me with your code"
   ]
  },
  {
   "cell_type": "markdown",
   "id": "115b4deb",
   "metadata": {},
   "source": [
    "💡 Sometimes you'll need to nest conditionals to express more complex logic.\n",
    "\n",
    "\n",
    "🧑‍💻 Write a code cell that prints \"large!\" if my_val is greater than 100, and also prints \"even\" if the variable is even."
   ]
  },
  {
   "cell_type": "code",
   "execution_count": 28,
   "id": "e9888be1",
   "metadata": {},
   "outputs": [],
   "source": [
    "# TODO: Replace me with your code"
   ]
  },
  {
   "cell_type": "markdown",
   "id": "819154fb",
   "metadata": {},
   "source": [
    "🧑‍💻 You have four numbers num1, num2, num3, and num4.   \n",
    "Write conditional statements to determine and print the largest number."
   ]
  },
  {
   "cell_type": "code",
   "execution_count": 29,
   "id": "7fc5d601",
   "metadata": {},
   "outputs": [],
   "source": [
    "num1 = 25\n",
    "num2 = 78\n",
    "num3 = 17\n",
    "num4 = 96\n",
    "\n",
    "# TODO: Replace me with a statement that prints the largest number"
   ]
  },
  {
   "cell_type": "markdown",
   "id": "4f28b7c4",
   "metadata": {},
   "source": [
    "🌟🧑‍💻 Extra Task: Write a date validator for the year 2023 that checks if the two numbers are a valid date.  \n",
    "Test your code using some other days and months.\n",
    "\n",
    "Remember:\n",
    "* 30 days has September, April, June, and November,\n",
    "* All the rest have 31, \n",
    "* Except February that has twenty-eight days"
   ]
  },
  {
   "cell_type": "code",
   "execution_count": 30,
   "id": "a8d64c0e",
   "metadata": {},
   "outputs": [],
   "source": [
    "day = 29\n",
    "month = 2\n",
    "\n",
    "# TODO: Replace me with your code"
   ]
  },
  {
   "cell_type": "markdown",
   "id": "11826c47",
   "metadata": {},
   "source": [
    "Congrats, you just learned some of the most foundational building blocks of every Python program. \n",
    "\n",
    "Programming is about combining these building blocks together to express more complicated logic. \n",
    "\n",
    "Don't feel the need to memorize every piece of syntax that we go over, as you start to write more Python code, you'll develop muscle memory."
   ]
  },
  {
   "cell_type": "markdown",
   "id": "b55ffc37",
   "metadata": {},
   "source": [
    "## Strings"
   ]
  },
  {
   "cell_type": "markdown",
   "id": "53b634c9",
   "metadata": {},
   "source": [
    "💡  Operators can also be applied to stings!  \n",
    "\n",
    "🧑‍💻  Run the below cell. Predict the output before running."
   ]
  },
  {
   "cell_type": "code",
   "execution_count": 31,
   "id": "73736783",
   "metadata": {},
   "outputs": [
    {
     "data": {
      "text/plain": [
       "\"Today's surf spot is Malibu\""
      ]
     },
     "execution_count": 31,
     "metadata": {},
     "output_type": "execute_result"
    }
   ],
   "source": [
    "place = \"Malibu\"\n",
    "\"Today's surf spot is \" + place"
   ]
  },
  {
   "cell_type": "markdown",
   "id": "88e9713f",
   "metadata": {},
   "source": [
    "Python has some built in functions for working with strings. Here are a few of the most useful ones!\n",
    "\n",
    "🧑‍💻  Run the below cell. Predict the output before running."
   ]
  },
  {
   "cell_type": "code",
   "execution_count": 32,
   "id": "c515c87f",
   "metadata": {},
   "outputs": [
    {
     "data": {
      "text/plain": [
       "6"
      ]
     },
     "execution_count": 32,
     "metadata": {},
     "output_type": "execute_result"
    }
   ],
   "source": [
    "len(place)"
   ]
  },
  {
   "cell_type": "code",
   "execution_count": 33,
   "id": "d7d20671",
   "metadata": {},
   "outputs": [
    {
     "data": {
      "text/plain": [
       "'malibu'"
      ]
     },
     "execution_count": 33,
     "metadata": {},
     "output_type": "execute_result"
    }
   ],
   "source": [
    "place.lower()"
   ]
  },
  {
   "cell_type": "code",
   "execution_count": 34,
   "id": "2ad1cbea",
   "metadata": {},
   "outputs": [
    {
     "data": {
      "text/plain": [
       "'MALIBU'"
      ]
     },
     "execution_count": 34,
     "metadata": {},
     "output_type": "execute_result"
    }
   ],
   "source": [
    "place.upper()"
   ]
  },
  {
   "cell_type": "code",
   "execution_count": 35,
   "id": "e5112348",
   "metadata": {},
   "outputs": [
    {
     "data": {
      "text/plain": [
       "'M'"
      ]
     },
     "execution_count": 35,
     "metadata": {},
     "output_type": "execute_result"
    }
   ],
   "source": [
    "place[0]"
   ]
  },
  {
   "cell_type": "code",
   "execution_count": 36,
   "id": "030bf25a",
   "metadata": {},
   "outputs": [
    {
     "data": {
      "text/plain": [
       "'Mal'"
      ]
     },
     "execution_count": 36,
     "metadata": {},
     "output_type": "execute_result"
    }
   ],
   "source": [
    "place[0:3]"
   ]
  },
  {
   "cell_type": "code",
   "execution_count": 37,
   "id": "a373d11e",
   "metadata": {},
   "outputs": [
    {
     "data": {
      "text/plain": [
       "'u'"
      ]
     },
     "execution_count": 37,
     "metadata": {},
     "output_type": "execute_result"
    }
   ],
   "source": [
    "place[-1]"
   ]
  },
  {
   "cell_type": "markdown",
   "id": "82e0a1ed",
   "metadata": {
    "tags": []
   },
   "source": [
    "🧑‍💻  Now, write code that checks if the first letter and the last letter of a word are the same. If they are, print \"They are the same!\". Otherwise print \"They are different!\"."
   ]
  },
  {
   "cell_type": "code",
   "execution_count": 38,
   "id": "f96aa85c",
   "metadata": {},
   "outputs": [],
   "source": [
    "# TODO: Replace me with your code"
   ]
  },
  {
   "cell_type": "markdown",
   "id": "0cf6188c",
   "metadata": {
    "tags": []
   },
   "source": [
    "💡 Notice that you can access individual characters in a string using indexing.  \n",
    "\n",
    "Accessing elements by index is also useful while working with lists. Lists are up next!\n",
    "\n",
    "## Lists\n",
    "\n",
    "🧑‍💻  Run the below cells. Predict the output before running."
   ]
  },
  {
   "cell_type": "code",
   "execution_count": 39,
   "id": "8327f0f2",
   "metadata": {},
   "outputs": [
    {
     "data": {
      "text/plain": [
       "['Surfing', 'Swimming', 'Diving']"
      ]
     },
     "execution_count": 39,
     "metadata": {},
     "output_type": "execute_result"
    }
   ],
   "source": [
    "activities = [\"Surfing\", \"Swimming\", \"Diving\"]\n",
    "activities"
   ]
  },
  {
   "cell_type": "markdown",
   "id": "2af8ec33",
   "metadata": {},
   "source": [
    "💡 Python lists are indexed starting at 0. "
   ]
  },
  {
   "cell_type": "code",
   "execution_count": 40,
   "id": "4a5c816e",
   "metadata": {},
   "outputs": [
    {
     "data": {
      "text/plain": [
       "'Surfing'"
      ]
     },
     "execution_count": 40,
     "metadata": {},
     "output_type": "execute_result"
    }
   ],
   "source": [
    "activities[0]"
   ]
  },
  {
   "cell_type": "code",
   "execution_count": 41,
   "id": "d99854ac",
   "metadata": {},
   "outputs": [
    {
     "data": {
      "text/plain": [
       "'Diving'"
      ]
     },
     "execution_count": 41,
     "metadata": {},
     "output_type": "execute_result"
    }
   ],
   "source": [
    "activities[-1]"
   ]
  },
  {
   "cell_type": "code",
   "execution_count": 42,
   "id": "7b718fef",
   "metadata": {},
   "outputs": [
    {
     "data": {
      "text/plain": [
       "3"
      ]
     },
     "execution_count": 42,
     "metadata": {},
     "output_type": "execute_result"
    }
   ],
   "source": [
    "len(activities)"
   ]
  },
  {
   "cell_type": "code",
   "execution_count": 43,
   "id": "a8d2e36c",
   "metadata": {},
   "outputs": [
    {
     "name": "stdout",
     "output_type": "stream",
     "text": [
      "The first entry is not 0\n"
     ]
    }
   ],
   "source": [
    "numbers = [0, 1, 2]\n",
    "if numbers[1] == 0:\n",
    "    print('The first entry is 0')\n",
    "else:\n",
    "    print('The first entry is not 0')"
   ]
  },
  {
   "cell_type": "markdown",
   "id": "526601fa",
   "metadata": {},
   "source": [
    "🧑‍💻  Run the following code to print out the last element in the list. "
   ]
  },
  {
   "cell_type": "code",
   "execution_count": 44,
   "id": "e8bc8f7a",
   "metadata": {},
   "outputs": [
    {
     "data": {
      "text/plain": [
       "2"
      ]
     },
     "execution_count": 44,
     "metadata": {},
     "output_type": "execute_result"
    }
   ],
   "source": [
    "numbers[2]"
   ]
  },
  {
   "cell_type": "markdown",
   "id": "2c4b67d3",
   "metadata": {},
   "source": [
    "💡 Remember that lists are 0 indexed! Let's try this instead"
   ]
  },
  {
   "cell_type": "code",
   "execution_count": 45,
   "id": "da1d85f3",
   "metadata": {},
   "outputs": [
    {
     "data": {
      "text/plain": [
       "2"
      ]
     },
     "execution_count": 45,
     "metadata": {},
     "output_type": "execute_result"
    }
   ],
   "source": [
    "numbers[len(numbers) - 1]"
   ]
  },
  {
   "cell_type": "markdown",
   "id": "531d6543",
   "metadata": {},
   "source": [
    "💡 Although lists are 0 indexed, the len() function still starts counting at 1"
   ]
  },
  {
   "cell_type": "code",
   "execution_count": 46,
   "id": "94b5551f",
   "metadata": {},
   "outputs": [
    {
     "data": {
      "text/plain": [
       "3"
      ]
     },
     "execution_count": 46,
     "metadata": {},
     "output_type": "execute_result"
    }
   ],
   "source": [
    "len(numbers)"
   ]
  },
  {
   "cell_type": "markdown",
   "id": "4e21fd78",
   "metadata": {},
   "source": [
    "🧑‍💻  Write code that prints the last element from the list `numbers`"
   ]
  },
  {
   "cell_type": "code",
   "execution_count": 47,
   "id": "59ab2de8",
   "metadata": {},
   "outputs": [],
   "source": [
    "# TODO: Replace me with your code"
   ]
  },
  {
   "cell_type": "markdown",
   "id": "eaede2ce",
   "metadata": {},
   "source": [
    "Off-by-one errors when indexing into lists is a common bug! That won't be the last time you see those error messages :) "
   ]
  },
  {
   "cell_type": "markdown",
   "id": "af65d912",
   "metadata": {},
   "source": [
    "💡 A list can contain any type of data:"
   ]
  },
  {
   "cell_type": "code",
   "execution_count": 48,
   "id": "c72f2c19",
   "metadata": {},
   "outputs": [],
   "source": [
    "mylist = [\"Hiking\", 29, True]"
   ]
  },
  {
   "cell_type": "code",
   "execution_count": 49,
   "id": "e300fee6",
   "metadata": {},
   "outputs": [
    {
     "data": {
      "text/plain": [
       "['Surfing', 29, True]"
      ]
     },
     "execution_count": 49,
     "metadata": {},
     "output_type": "execute_result"
    }
   ],
   "source": [
    "mylist[0] = \"Surfing\"\n",
    "mylist"
   ]
  },
  {
   "cell_type": "markdown",
   "id": "d6ad5118",
   "metadata": {},
   "source": [
    "🧑‍💻  Write code that checks if the minimum value and the maximum value is greater than 6.  \n",
    "\n",
    "\n",
    "Hint: You can make use of the functions **min(l)** and **max(l)** for that.\n"
   ]
  },
  {
   "cell_type": "code",
   "execution_count": 50,
   "id": "4fb732ed",
   "metadata": {},
   "outputs": [],
   "source": [
    "l = [5, 10, 2, 8, 3]\n",
    "\n",
    "# TODO: Replace me with your code"
   ]
  },
  {
   "cell_type": "markdown",
   "id": "b536a11e",
   "metadata": {},
   "source": [
    "## Dicts\n",
    "💡 A Python **dictionary** is a collection of key-value pairs. Each key in the dictionary must be unique, but values can repeat.  \n",
    "\n",
    "🧑‍💻 Run the following code cells and checkout the results."
   ]
  },
  {
   "cell_type": "code",
   "execution_count": 51,
   "id": "b9224693",
   "metadata": {},
   "outputs": [
    {
     "data": {
      "text/plain": [
       "{'sand': 'tiny grains', 'shell': 'sea creature home', 'wave': \"ocean's rhythm\"}"
      ]
     },
     "execution_count": 51,
     "metadata": {},
     "output_type": "execute_result"
    }
   ],
   "source": [
    "d = {\"sand\": \"tiny grains\", \"shell\": \"sea creature home\", \"wave\": \"ocean's rhythm\"}\n",
    "d"
   ]
  },
  {
   "cell_type": "code",
   "execution_count": 52,
   "id": "bc801aa5",
   "metadata": {},
   "outputs": [
    {
     "data": {
      "text/plain": [
       "{'sand': 'small particles',\n",
       " 'shell': 'sea creature home',\n",
       " 'wave': \"ocean's rhythm\"}"
      ]
     },
     "execution_count": 52,
     "metadata": {},
     "output_type": "execute_result"
    }
   ],
   "source": [
    "d[\"sand\"] = \"small particles\"\n",
    "d"
   ]
  },
  {
   "cell_type": "code",
   "execution_count": 53,
   "id": "addff26a",
   "metadata": {},
   "outputs": [
    {
     "data": {
      "text/plain": [
       "{'sand': 'small particles',\n",
       " 'shell': 'sea creature home',\n",
       " 'wave': \"ocean's rhythm\",\n",
       " 'sun': 'source of light'}"
      ]
     },
     "execution_count": 53,
     "metadata": {},
     "output_type": "execute_result"
    }
   ],
   "source": [
    "d[\"sun\"] = \"source of light\"\n",
    "d"
   ]
  },
  {
   "cell_type": "code",
   "execution_count": 54,
   "id": "c2414a28",
   "metadata": {},
   "outputs": [
    {
     "data": {
      "text/plain": [
       "{'sand': 'small particles', 'wave': \"ocean's rhythm\", 'sun': 'source of light'}"
      ]
     },
     "execution_count": 54,
     "metadata": {},
     "output_type": "execute_result"
    }
   ],
   "source": [
    "del d[\"shell\"]\n",
    "d"
   ]
  },
  {
   "cell_type": "code",
   "execution_count": 55,
   "id": "dc9f5763",
   "metadata": {},
   "outputs": [
    {
     "data": {
      "text/plain": [
       "['sand', 'wave', 'sun']"
      ]
     },
     "execution_count": 55,
     "metadata": {},
     "output_type": "execute_result"
    }
   ],
   "source": [
    "list(d.keys())"
   ]
  },
  {
   "cell_type": "code",
   "execution_count": 56,
   "id": "eec7fea6",
   "metadata": {},
   "outputs": [
    {
     "data": {
      "text/plain": [
       "['small particles', \"ocean's rhythm\", 'source of light']"
      ]
     },
     "execution_count": 56,
     "metadata": {},
     "output_type": "execute_result"
    }
   ],
   "source": [
    "list(d.values())"
   ]
  },
  {
   "cell_type": "code",
   "execution_count": 57,
   "id": "14661376",
   "metadata": {},
   "outputs": [
    {
     "data": {
      "text/plain": [
       "[('sand', 'small particles'),\n",
       " ('wave', \"ocean's rhythm\"),\n",
       " ('sun', 'source of light')]"
      ]
     },
     "execution_count": 57,
     "metadata": {},
     "output_type": "execute_result"
    }
   ],
   "source": [
    "list(d.items())"
   ]
  },
  {
   "cell_type": "markdown",
   "id": "352c82e3",
   "metadata": {},
   "source": [
    "🧑‍💻  Print the value of the key `wave` from the dict `d`. Make sure to not forget the quotation marks."
   ]
  },
  {
   "cell_type": "code",
   "execution_count": 58,
   "id": "e17981da",
   "metadata": {},
   "outputs": [],
   "source": [
    "# TODO: Replace me with your code"
   ]
  },
  {
   "cell_type": "markdown",
   "id": "4b7cda70",
   "metadata": {},
   "source": [
    "🧑‍💻  Create a new dict called food_scores that has the name of foods as the keys and a score from 1-10 as the value.  "
   ]
  },
  {
   "cell_type": "code",
   "execution_count": 59,
   "id": "832a5c44",
   "metadata": {},
   "outputs": [],
   "source": [
    "# TODO: Replace me with your code"
   ]
  },
  {
   "cell_type": "markdown",
   "id": "a22b6cea",
   "metadata": {},
   "source": [
    "🧑‍💻  Sum the values of the food_scores dictionary"
   ]
  },
  {
   "cell_type": "code",
   "execution_count": 60,
   "id": "d918c493",
   "metadata": {},
   "outputs": [],
   "source": [
    "# TODO: Replace me with your code"
   ]
  },
  {
   "cell_type": "markdown",
   "id": "fdf7a875",
   "metadata": {},
   "source": [
    "💡 Dictionaries can have any data type as their value, including other dictionaries. These are called nested dictionaries.\n",
    "\n",
    "When creating nested dictionaries, it's often helpful to break each dictionary entry into a single line"
   ]
  },
  {
   "cell_type": "code",
   "execution_count": 61,
   "id": "ef1824d0",
   "metadata": {},
   "outputs": [
    {
     "data": {
      "text/plain": [
       "{1: {'First Name': 'Aaron', 'Last Name': 'Diamond-Reivich'},\n",
       " 2: {'First Name': 'Nate', 'Last Name': 'Rush'}}"
      ]
     },
     "execution_count": 61,
     "metadata": {},
     "output_type": "execute_result"
    }
   ],
   "source": [
    "{\n",
    "    1: {\n",
    "        'First Name': 'Aaron',\n",
    "        'Last Name': 'Diamond-Reivich'\n",
    "        },\n",
    "    2: {\n",
    "        'First Name': 'Nate',\n",
    "        'Last Name': 'Rush'\n",
    "    }\n",
    "}"
   ]
  },
  {
   "cell_type": "markdown",
   "id": "52f7d10b",
   "metadata": {},
   "source": [
    "💡 Dictionaries can also have lists as their values. "
   ]
  },
  {
   "cell_type": "code",
   "execution_count": 62,
   "id": "f5d0dd86",
   "metadata": {},
   "outputs": [
    {
     "data": {
      "text/plain": [
       "{'Programming Languages': ['Python', 'SQL', 'Javascript'],\n",
       " 'Programming Environments': ['Jupyter', 'VSCode']}"
      ]
     },
     "execution_count": 62,
     "metadata": {},
     "output_type": "execute_result"
    }
   ],
   "source": [
    "{\n",
    "    'Programming Languages': ['Python', 'SQL', 'Javascript'],\n",
    "    'Programming Environments': ['Jupyter', 'VSCode']\n",
    "}"
   ]
  },
  {
   "cell_type": "markdown",
   "id": "9693d0aa",
   "metadata": {},
   "source": [
    "## Casting"
   ]
  },
  {
   "cell_type": "markdown",
   "id": "4fac7ef0",
   "metadata": {},
   "source": [
    "💡 Converting one data types into another is called **casting**.  \n",
    "🧑‍💻 Run the following code"
   ]
  },
  {
   "cell_type": "code",
   "execution_count": 63,
   "id": "1bebe166",
   "metadata": {},
   "outputs": [
    {
     "name": "stdout",
     "output_type": "stream",
     "text": [
      "4\n",
      "3\n",
      "5\n",
      "6.0\n",
      "4.6\n",
      "7.0\n",
      "5.3\n",
      "hello42\n",
      "3\n",
      "4.5\n"
     ]
    }
   ],
   "source": [
    "\n",
    "print(int(4))     # out: 4\n",
    "print(int(3.6))   # out: 3\n",
    "print(int(\"5\"))   # out: 5\n",
    "\n",
    "print(float(6))       # out: 6.0\n",
    "print(float(4.6))     # out: 4.6\n",
    "print(float(\"7\"))     # out: 7.0\n",
    "print(float(\"5.3\"))   # out: 5.3\n",
    "\n",
    "print(str(\"hello42\"))    # out: 'hello42'\n",
    "print(str(3))       # out: '3'\n",
    "print(str(4.5))     # out: '4.5'"
   ]
  },
  {
   "cell_type": "markdown",
   "id": "0c620b73",
   "metadata": {},
   "source": [
    "## Practice"
   ]
  },
  {
   "cell_type": "markdown",
   "id": "9983f657",
   "metadata": {},
   "source": [
    "🧑‍💻 The below code will throw an error message. Read the error message and try to fix the code."
   ]
  },
  {
   "cell_type": "code",
   "execution_count": 64,
   "id": "a2e43fd6",
   "metadata": {},
   "outputs": [
    {
     "data": {
      "text/plain": [
       "'tiny grains'"
      ]
     },
     "execution_count": 64,
     "metadata": {},
     "output_type": "execute_result"
    }
   ],
   "source": [
    "d = {\"sand\": \"tiny grains\", \"shell\": \"sea creature home\", \"wave\": \"ocean's rhythm\"}\n",
    "d['sand']"
   ]
  },
  {
   "cell_type": "markdown",
   "id": "bc286210",
   "metadata": {},
   "source": [
    "🧑‍💻 Check if `sun` is a key in the dictionary."
   ]
  },
  {
   "cell_type": "code",
   "execution_count": 65,
   "id": "4878cb6a",
   "metadata": {},
   "outputs": [],
   "source": [
    "# TODO: Replace me with your code"
   ]
  },
  {
   "cell_type": "markdown",
   "id": "f897debf",
   "metadata": {},
   "source": [
    "🧑‍💻 Change the value of \"b\" to 4 and add a new key \"d\" with the value 5."
   ]
  },
  {
   "cell_type": "code",
   "execution_count": 66,
   "id": "47194022",
   "metadata": {},
   "outputs": [],
   "source": [
    "d = {\"a\": 1, \"b\": 2, \"c\": 3}\n",
    "\n",
    "# TODO: Replace me with your code"
   ]
  },
  {
   "cell_type": "markdown",
   "id": "eaaa27b5",
   "metadata": {},
   "source": [
    "🧑‍💻 Convert the list to a string with the elements joined by commas. \n",
    "\n",
    "Hint: Use the str.join() method -- try looking it up on Stack Overflow. "
   ]
  },
  {
   "cell_type": "code",
   "execution_count": 67,
   "id": "5371bad6",
   "metadata": {},
   "outputs": [],
   "source": [
    "activities = [\"Surfing\", \"Swimming\", \"Diving\"]\n",
    "\n",
    "# TODO: Replace me with your code"
   ]
  },
  {
   "cell_type": "markdown",
   "id": "7a99772b",
   "metadata": {},
   "source": [
    "🧑‍💻 Create a list of 5 integers. Calculate the sum of the elements in the list using Python's built-in sum() function."
   ]
  },
  {
   "cell_type": "code",
   "execution_count": 68,
   "id": "0970df13",
   "metadata": {},
   "outputs": [],
   "source": [
    "# TODO: Replace me with your code"
   ]
  },
  {
   "cell_type": "markdown",
   "id": "6c47c9f9",
   "metadata": {
    "tags": []
   },
   "source": [
    "🧑‍💻 Given two strings, s1 and s2, concatenate them and then find the length of the resulting string."
   ]
  },
  {
   "cell_type": "code",
   "execution_count": 69,
   "id": "f40f5996",
   "metadata": {},
   "outputs": [],
   "source": [
    "s1 = 'First String'\n",
    "s2 = 'Second String'\n",
    "# TODO: Replace me with your code"
   ]
  },
  {
   "cell_type": "markdown",
   "id": "4fd6f3c8",
   "metadata": {},
   "source": [
    "Well done, let's move on to the next notebook!"
   ]
  },
  {
   "cell_type": "markdown",
   "id": "4590c4d3",
   "metadata": {},
   "source": []
  },
  {
   "cell_type": "code",
   "execution_count": null,
   "id": "6b338514-837c-434b-af82-4ee8d8d1d987",
   "metadata": {},
   "outputs": [],
   "source": []
  },
  {
   "cell_type": "code",
   "execution_count": null,
   "id": "ee531d7b-2dbf-493d-8c5d-74b67fb4b0a1",
   "metadata": {},
   "outputs": [],
   "source": []
  },
  {
   "cell_type": "code",
   "execution_count": null,
   "id": "84888f29-42a0-4502-b1ce-f49d3c5e3d4c",
   "metadata": {},
   "outputs": [],
   "source": []
  },
  {
   "cell_type": "code",
   "execution_count": null,
   "id": "2e51119e-4d41-40c9-b99e-0e7cb5402826",
   "metadata": {},
   "outputs": [],
   "source": []
  },
  {
   "cell_type": "code",
   "execution_count": null,
   "id": "63befc65-9b24-4020-9430-523038fd60ef",
   "metadata": {},
   "outputs": [],
   "source": []
  },
  {
   "cell_type": "code",
   "execution_count": null,
   "id": "a85444b7-5a30-4714-a729-cc00c870a42d",
   "metadata": {},
   "outputs": [],
   "source": []
  },
  {
   "cell_type": "code",
   "execution_count": null,
   "id": "0d163805-d539-4a5c-b0e7-8e347afe419a",
   "metadata": {},
   "outputs": [],
   "source": []
  },
  {
   "cell_type": "code",
   "execution_count": null,
   "id": "8f832a98-fd2f-41a5-9c7f-29815f569938",
   "metadata": {},
   "outputs": [],
   "source": []
  }
 ],
 "metadata": {
  "kernelspec": {
   "display_name": "Python 3 (ipykernel)",
   "language": "python",
   "name": "python3"
  },
  "language_info": {
   "codemirror_mode": {
    "name": "ipython",
    "version": 3
   },
   "file_extension": ".py",
   "mimetype": "text/x-python",
   "name": "python",
   "nbconvert_exporter": "python",
   "pygments_lexer": "ipython3",
   "version": "3.11.1"
  },
  "vscode": {
   "interpreter": {
    "hash": "31f2aee4e71d21fbe5cf8b01ff0e069b9275f58929596ceb00d14d90e3e16cd6"
   }
  }
 },
 "nbformat": 4,
 "nbformat_minor": 5
}
