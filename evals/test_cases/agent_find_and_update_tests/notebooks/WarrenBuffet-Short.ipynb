{
 "cells": [
  {
   "cell_type": "code",
   "execution_count": 15,
   "id": "a3fe6e7b-0c17-4fc8-a630-f39b4dce3f0c",
   "metadata": {
    "editable": true,
    "slideshow": {
     "slide_type": ""
    },
    "tags": []
   },
   "outputs": [],
   "source": [
    "from mitosheet.public.v3 import *; # Analysis Name:id-dnjjcfibvx;\n",
    "import pandas as pd\n",
    "\n",
    "# Imported warren_buffett_portfolio.csv\n",
    "url_to_data = 'https://raw.githubusercontent.com/mito-ds/mito/3ccd31ca659853cc798d2a76eaca9b6572f8cc44/evals/test_cases/agent_find_and_update_tests/notebooks/warren_buffett_portfolio.csv'\n",
    "warren_buffett_portfolio = pd.read_csv(url_to_data)\n",
    "\n",
    "# Changed Date to dtype datetime\n",
    "warren_buffett_portfolio['Date'] = pd.to_datetime(warren_buffett_portfolio['Date'], format='%Y-%m-%d', errors='coerce')\n"
   ]
  },
  {
   "cell_type": "markdown",
   "id": "6b35a45d-c6a8-4306-938b-002709fb6202",
   "metadata": {},
   "source": [
    "# Analysis"
   ]
  },
  {
   "cell_type": "code",
   "execution_count": 3,
   "id": "be7d0a75-32a4-4812-a45d-a828aee90958",
   "metadata": {},
   "outputs": [],
   "source": [
    "from mitosheet.public.v3 import *; \n",
    "\n",
    "# Pivoted warren_buffett_portfolio into warren_buffett_portfolio_pivot\n",
    "tmp_df = warren_buffett_portfolio[['Industry', 'Num_Employees']].copy()\n",
    "pivot_table = tmp_df.pivot_table(\n",
    "    index=['Industry'],\n",
    "    values=['Num_Employees'],\n",
    "    aggfunc={'Num_Employees': ['mean', 'median']}\n",
    ")\n",
    "pivot_table = pivot_table.set_axis([flatten_column_header(col) for col in pivot_table.keys()], axis=1)\n",
    "warren_buffett_portfolio_pivot = pivot_table.reset_index()\n"
   ]
  },
  {
   "cell_type": "code",
   "execution_count": 4,
   "id": "c094af3c-d221-47b7-9409-17115daaf96e",
   "metadata": {},
   "outputs": [
    {
     "data": {
      "text/html": [
       "<iframe\n",
       "    scrolling=\"no\"\n",
       "    width=\"100%\"\n",
       "    height=\"545px\"\n",
       "    src=\"iframe_figures/figure_4.html\"\n",
       "    frameborder=\"0\"\n",
       "    allowfullscreen\n",
       "></iframe>\n"
      ]
     },
     "metadata": {},
     "output_type": "display_data"
    }
   ],
   "source": [
    "import plotly.express as px\n",
    "# Construct the graph and style it. Further customize your graph by editing this code.\n",
    "# See Plotly Documentation for help: https://plotly.com/python/plotly-express/\n",
    "fig = px.bar(warren_buffett_portfolio_pivot, x='Industry', y='Num_Employees mean')\n",
    "fig.update_layout(\n",
    "        title='Industry, Num_Employees mean bar chart', \n",
    "        xaxis={\n",
    "            \"showgrid\": True, \n",
    "            \"rangeslider\": {\n",
    "                \"visible\": True, \n",
    "                \"thickness\": 0.05\n",
    "            }\n",
    "        }, \n",
    "        yaxis={\n",
    "            \"showgrid\": True\n",
    "        }, \n",
    "        legend={\n",
    "            \"orientation\": 'v'\n",
    "        }, \n",
    "        barmode='group', \n",
    "        paper_bgcolor='#FFFFFF'\n",
    "    )\n",
    "fig.show(renderer=\"iframe\")"
   ]
  },
  {
   "cell_type": "code",
   "execution_count": 5,
   "id": "c68fdf19-db8c-46dd-926f-d90ad35bb3bc",
   "metadata": {
    "editable": true,
    "slideshow": {
     "slide_type": ""
    },
    "tags": []
   },
   "outputs": [],
   "source": [
    "from mitosheet.public.v3 import *; \n",
    "import pandas as pd\n",
    "\n",
    "warren_buffett_portfolio_copy = warren_buffett_portfolio.copy(deep=True)\n",
    "\n",
    "# Added column 'YEAR-MONTH'\n",
    "warren_buffett_portfolio_copy.insert(1, 'YEAR-MONTH', CONCAT(YEAR(warren_buffett_portfolio_copy['Date']), \"-\", MONTH( ENDOFBUSINESSMONTH(warren_buffett_portfolio_copy['Date']))))\n",
    "\n",
    "# Dropped duplicates in warren_buffett_portfolio\n",
    "warren_buffett_portfolio_copy = warren_buffett_portfolio_copy.drop_duplicates(subset=['YEAR-MONTH', 'Symbol'], keep='last')\n",
    "\n",
    "# Filtered Date\n",
    "warren_buffett_portfolio_copy = warren_buffett_portfolio_copy[warren_buffett_portfolio_copy['Date'] > pd.to_datetime('2018-02-25')]\n"
   ]
  },
  {
   "cell_type": "code",
   "execution_count": 6,
   "id": "4178831c-b006-4cc7-9c94-d056fff7d7e5",
   "metadata": {},
   "outputs": [
    {
     "data": {
      "text/html": [
       "<iframe\n",
       "    scrolling=\"no\"\n",
       "    width=\"100%\"\n",
       "    height=\"545px\"\n",
       "    src=\"iframe_figures/figure_6.html\"\n",
       "    frameborder=\"0\"\n",
       "    allowfullscreen\n",
       "></iframe>\n"
      ]
     },
     "metadata": {},
     "output_type": "display_data"
    }
   ],
   "source": [
    "import plotly.express as px\n",
    "\n",
    "# Filter the dataframe so that it does not crash the browser\n",
    "warren_buffett_portfolio_filtered = warren_buffett_portfolio_copy.head(1000)\n",
    "\n",
    "# Construct the graph and style it. Further customize your graph by editing this code.\n",
    "# See Plotly Documentation for help: https://plotly.com/python/plotly-express/\n",
    "fig = px.line(warren_buffett_portfolio_filtered, x='Date', y='Close', color='Symbol', line_shape='linear')\n",
    "fig.update_layout(\n",
    "        title='Date, Close (first 1000 rows) line', \n",
    "        xaxis={\n",
    "            \"showgrid\": True, \n",
    "            \"rangeslider\": {\n",
    "                \"visible\": True, \n",
    "                \"thickness\": 0.05\n",
    "            }\n",
    "        }, \n",
    "        yaxis={\n",
    "            \"showgrid\": True\n",
    "        }, \n",
    "        legend={\n",
    "            \"orientation\": 'v'\n",
    "        }, \n",
    "        paper_bgcolor='#FFFFFF'\n",
    "    )\n",
    "fig.show(renderer=\"iframe\")"
   ]
  },
  {
   "cell_type": "code",
   "execution_count": null,
   "id": "5ffc9178-112d-41c4-be76-8f300c146284",
   "metadata": {},
   "outputs": [],
   "source": []
  },
  {
   "cell_type": "code",
   "execution_count": null,
   "id": "7ef528d4-7523-481d-81fe-b1399037cc2c",
   "metadata": {},
   "outputs": [],
   "source": []
  },
  {
   "cell_type": "code",
   "execution_count": null,
   "id": "223ef586-463d-4d6f-a20c-da9b345699b7",
   "metadata": {},
   "outputs": [],
   "source": []
  },
  {
   "cell_type": "code",
   "execution_count": null,
   "id": "1c06b3ff-be0d-4c95-9985-02b77851c455",
   "metadata": {},
   "outputs": [],
   "source": []
  }
 ],
 "metadata": {
  "kernelspec": {
   "display_name": "Python 3 (ipykernel)",
   "language": "python",
   "name": "python3"
  },
  "language_info": {
   "codemirror_mode": {
    "name": "ipython",
    "version": 3
   },
   "file_extension": ".py",
   "mimetype": "text/x-python",
   "name": "python",
   "nbconvert_exporter": "python",
   "pygments_lexer": "ipython3",
   "version": "3.11.1"
  }
 },
 "nbformat": 4,
 "nbformat_minor": 5
}
