{
 "cells": [
  {
   "cell_type": "code",
   "execution_count": 22,
   "id": "96b32df4-a4eb-4192-b7a8-32c6a43887a9",
   "metadata": {},
   "outputs": [],
   "source": [
    "import plotly.express as px\n",
    "from mitosheet.public.v3 import *; # Analysis Name:id-dnjjcfibvx;\n",
    "import pandas as pd\n",
    "\n",
    "url_to_data = 'https://raw.githubusercontent.com/mito-ds/mito/3ccd31ca659853cc798d2a76eaca9b6572f8cc44/evals/test_cases/agent_find_and_update_tests/notebooks/warren_buffett_portfolio.csv'\n"
   ]
  },
  {
   "cell_type": "code",
   "execution_count": 34,
   "id": "a3fe6e7b-0c17-4fc8-a630-f39b4dce3f0c",
   "metadata": {},
   "outputs": [],
   "source": [
    "# Imported warren_buffett_portfolio.csv\n",
    "warren_buffett_portfolio = pd.read_csv(url_to_data)\n",
    "\n",
    "# Changed Date to dtype datetime\n",
    "warren_buffett_portfolio['Date'] = pd.to_datetime(warren_buffett_portfolio['Date'], format='%Y-%m-%d', errors='coerce')"
   ]
  },
  {
   "cell_type": "markdown",
   "id": "6b35a45d-c6a8-4306-938b-002709fb6202",
   "metadata": {},
   "source": [
    "# Analysis"
   ]
  },
  {
   "cell_type": "code",
   "execution_count": 24,
   "id": "be7d0a75-32a4-4812-a45d-a828aee90958",
   "metadata": {},
   "outputs": [],
   "source": [
    "# Pivoted warren_buffett_portfolio into warren_buffett_portfolio_pivot\n",
    "tmp_df = warren_buffett_portfolio[['Industry', 'Num_Employees']].copy()\n",
    "pivot_table = tmp_df.pivot_table(\n",
    "    index=['Industry'],\n",
    "    values=['Num_Employees'],\n",
    "    aggfunc={'Num_Employees': ['mean', 'median']}\n",
    ")\n",
    "pivot_table = pivot_table.set_axis([flatten_column_header(col) for col in pivot_table.keys()], axis=1)\n",
    "warren_buffett_portfolio_pivot = pivot_table.reset_index()\n"
   ]
  },
  {
   "cell_type": "code",
   "execution_count": 25,
   "id": "c094af3c-d221-47b7-9409-17115daaf96e",
   "metadata": {},
   "outputs": [
    {
     "data": {
      "text/html": [
       "<iframe\n",
       "    scrolling=\"no\"\n",
       "    width=\"100%\"\n",
       "    height=\"545px\"\n",
       "    src=\"iframe_figures/figure_25.html\"\n",
       "    frameborder=\"0\"\n",
       "    allowfullscreen\n",
       "></iframe>\n"
      ]
     },
     "metadata": {},
     "output_type": "display_data"
    }
   ],
   "source": [
    "# Construct the graph and style it. Further customize your graph by editing this code.\n",
    "# See Plotly Documentation for help: https://plotly.com/python/plotly-express/\n",
    "fig = px.bar(warren_buffett_portfolio_pivot, x='Industry', y='Num_Employees mean')\n",
    "fig.update_layout(\n",
    "        title='Industry, Num_Employees mean bar chart', \n",
    "        xaxis={\n",
    "            \"showgrid\": True, \n",
    "            \"rangeslider\": {\n",
    "                \"visible\": True, \n",
    "                \"thickness\": 0.05\n",
    "            }\n",
    "        }, \n",
    "        yaxis={\n",
    "            \"showgrid\": True\n",
    "        }, \n",
    "        legend={\n",
    "            \"orientation\": 'v'\n",
    "        }, \n",
    "        barmode='group', \n",
    "        paper_bgcolor='#FFFFFF'\n",
    "    )\n",
    "fig.show(renderer=\"iframe\")"
   ]
  },
  {
   "cell_type": "code",
   "execution_count": 26,
   "id": "c68fdf19-db8c-46dd-926f-d90ad35bb3bc",
   "metadata": {},
   "outputs": [],
   "source": [
    "# \n",
    "warren_buffett_portfolio_copy = warren_buffett_portfolio.copy(deep=True)\n",
    "warren_buffett_portfolio_copy.insert(1, 'YEAR-MONTH', CONCAT(YEAR(warren_buffett_portfolio_copy['Date']), \"-\", MONTH( ENDOFBUSINESSMONTH(warren_buffett_portfolio_copy['Date']))))\n",
    "warren_buffett_portfolio_copy = warren_buffett_portfolio_copy.drop_duplicates(subset=['YEAR-MONTH', 'Symbol'], keep='last')\n",
    "warren_buffett_portfolio_copy = warren_buffett_portfolio_copy[warren_buffett_portfolio_copy['Date'] > pd.to_datetime('2018-02-25')]"
   ]
  },
  {
   "cell_type": "code",
   "execution_count": 27,
   "id": "4178831c-b006-4cc7-9c94-d056fff7d7e5",
   "metadata": {},
   "outputs": [
    {
     "data": {
      "text/html": [
       "<iframe\n",
       "    scrolling=\"no\"\n",
       "    width=\"100%\"\n",
       "    height=\"545px\"\n",
       "    src=\"iframe_figures/figure_27.html\"\n",
       "    frameborder=\"0\"\n",
       "    allowfullscreen\n",
       "></iframe>\n"
      ]
     },
     "metadata": {},
     "output_type": "display_data"
    }
   ],
   "source": [
    "# Filter the dataframe so that it does not crash the browser\n",
    "warren_buffett_portfolio_filtered = warren_buffett_portfolio_copy.head(1000)\n",
    "\n",
    "fig = px.line(warren_buffett_portfolio_filtered, x='Date', y='Close', color='Symbol', line_shape='linear')\n",
    "fig.update_layout(\n",
    "        title='Date, Close (first 1000 rows) line', \n",
    "        xaxis={\n",
    "            \"showgrid\": True, \n",
    "            \"rangeslider\": {\n",
    "                \"visible\": True, \n",
    "                \"thickness\": 0.05\n",
    "            }\n",
    "        }, \n",
    "        yaxis={\n",
    "            \"showgrid\": True\n",
    "        }, \n",
    "        legend={\n",
    "            \"orientation\": 'v'\n",
    "        }, \n",
    "        paper_bgcolor='#FFFFFF'\n",
    "    )\n",
    "fig.show(renderer=\"iframe\")"
   ]
  },
  {
   "cell_type": "code",
   "execution_count": 28,
   "id": "297d29ea-03a3-4166-8c04-cfca0a999c19",
   "metadata": {},
   "outputs": [],
   "source": [
    "# Imported warren_buffett_portfolio.csv\n",
    "warren_buffett_portfolio_daily_change = pd.read_csv(url_to_data)\n",
    "\n",
    "# Added column 'DoD Delta'\n",
    "warren_buffett_portfolio_daily_change.insert(5, 'DoD Delta', IF(warren_buffett_portfolio_daily_change['Symbol']==warren_buffett_portfolio_daily_change['Symbol'].shift(1),(warren_buffett_portfolio_daily_change['Close']-warren_buffett_portfolio_daily_change['Close'].shift(1, fill_value=0))/warren_buffett_portfolio_daily_change['Close'].shift(1, fill_value=0),0))\n",
    "\n",
    "# Deleted columns Volume, Adj Close, Name, Sector, Industry, Num_Employees, High, Low, Open\n",
    "warren_buffett_portfolio_daily_change.drop(['Volume', 'Adj Close', 'Name', 'Sector', 'Industry', 'Num_Employees', 'High', 'Low', 'Open'], axis=1, inplace=True)\n",
    "\n",
    "# Sorted DoD Delta in descending order\n",
    "top_100_dod_changes = warren_buffett_portfolio_daily_change.sort_values(by='DoD Delta', ascending=False, na_position='last').head(100)\n",
    "worst_100_dod_changes = warren_buffett_portfolio_daily_change.sort_values(by='DoD Delta', ascending=True, na_position='last').head(100)\n"
   ]
  },
  {
   "cell_type": "code",
   "execution_count": 29,
   "id": "612b95b7-f656-4e7b-90ac-a4b30af5e614",
   "metadata": {},
   "outputs": [
    {
     "data": {
      "text/html": [
       "<iframe\n",
       "    scrolling=\"no\"\n",
       "    width=\"100%\"\n",
       "    height=\"545px\"\n",
       "    src=\"iframe_figures/figure_29.html\"\n",
       "    frameborder=\"0\"\n",
       "    allowfullscreen\n",
       "></iframe>\n"
      ]
     },
     "metadata": {},
     "output_type": "display_data"
    },
    {
     "data": {
      "text/html": [
       "<iframe\n",
       "    scrolling=\"no\"\n",
       "    width=\"100%\"\n",
       "    height=\"545px\"\n",
       "    src=\"iframe_figures/figure_29.html\"\n",
       "    frameborder=\"0\"\n",
       "    allowfullscreen\n",
       "></iframe>\n"
      ]
     },
     "metadata": {},
     "output_type": "display_data"
    }
   ],
   "source": [
    "fig_one = px.bar(top_100_dod_changes, x='Symbol', y='DoD Delta')\n",
    "fig_one.update_layout(\n",
    "        title='Symbol, DoD Delta bar chart', \n",
    "        xaxis={\n",
    "            \"showgrid\": True, \n",
    "            \"rangeslider\": {\n",
    "                \"visible\": True, \n",
    "                \"thickness\": 0.05\n",
    "            }\n",
    "        }, \n",
    "        yaxis={\n",
    "            \"showgrid\": True\n",
    "        }, \n",
    "        legend={\n",
    "            \"orientation\": 'v'\n",
    "        }, \n",
    "        barmode='group', \n",
    "        paper_bgcolor='#FFFFFF'\n",
    "    )\n",
    "fig_one.show(renderer=\"iframe\")\n",
    "\n",
    "fig_two = px.bar(worst_100_dod_changes, x='Symbol', y='DoD Delta')\n",
    "fig_two.update_layout(\n",
    "        title='Symbol, DoD Delta bar chart', \n",
    "        xaxis={\n",
    "            \"showgrid\": True, \n",
    "            \"rangeslider\": {\n",
    "                \"visible\": True, \n",
    "                \"thickness\": 0.05\n",
    "            }\n",
    "        }, \n",
    "        yaxis={\n",
    "            \"showgrid\": True\n",
    "        }, \n",
    "        legend={\n",
    "            \"orientation\": 'v'\n",
    "        }, \n",
    "        barmode='group', \n",
    "        paper_bgcolor='#FFFFFF'\n",
    "    )\n",
    "fig_two.show(renderer=\"iframe\")"
   ]
  },
  {
   "cell_type": "code",
   "execution_count": 30,
   "id": "e2cf9b6c-94dd-4756-a72f-a3518185efaf",
   "metadata": {},
   "outputs": [],
   "source": [
    "warren_buffett_portfolio = pd.read_csv(url_to_data)"
   ]
  },
  {
   "cell_type": "code",
   "execution_count": 31,
   "id": "8a1df3da-14d0-4de7-a424-c4c20c0d4185",
   "metadata": {},
   "outputs": [],
   "source": [
    "from mitosheet.public.v3 import *; \n",
    "import pandas as pd\n",
    "\n",
    "# Added column 'Market Cap'\n",
    "warren_buffett_portfolio.insert(6, 'Market Cap', warren_buffett_portfolio['Volume']*warren_buffett_portfolio['Close'])\n",
    "\n",
    "# Sorted Market Cap in ascending order\n",
    "warren_buffett_portfolio = warren_buffett_portfolio.sort_values(by='Market Cap', ascending=True, na_position='first')\n",
    "\n",
    "# Filtered Market Cap\n",
    "warren_buffett_portfolio = warren_buffett_portfolio[warren_buffett_portfolio['Market Cap'] > 0]\n",
    "\n",
    "# Duplicated warren_buffett_portfolio\n",
    "warren_buffett_portfolio_copy = warren_buffett_portfolio.copy(deep=True)\n",
    "\n",
    "# Duplicated warren_buffett_portfolio_copy\n",
    "warren_buffett_portfolio_copy_copy = warren_buffett_portfolio_copy.copy(deep=True)\n",
    "\n",
    "# Dropped duplicates in warren_buffett_portfolio_copy\n",
    "warren_buffett_portfolio_copy = warren_buffett_portfolio_copy.drop_duplicates(subset=['Symbol'], keep='first')\n",
    "\n",
    "# Dropped duplicates in warren_buffett_portfolio_copy_copy\n",
    "warren_buffett_portfolio_copy_copy = warren_buffett_portfolio_copy_copy.drop_duplicates(subset=['Symbol'], keep='last')\n",
    "\n",
    "# Renamed warren_buffett_portfolio_copy to smallest_market_cap_day\n",
    "smallest_market_cap_day = warren_buffett_portfolio_copy\n",
    "\n",
    "# Renamed warren_buffett_portfolio_copy_copy to largest_market_cap_day\n",
    "largest_market_cap_day = warren_buffett_portfolio_copy_copy\n",
    "\n",
    "# Concatenated 2 into dataframes into df_concat\n",
    "df_concat = pd.concat([smallest_market_cap_day, largest_market_cap_day], join='inner', ignore_index=True)\n",
    "\n",
    "# Sorted Symbol in descending order\n",
    "df_concat = df_concat.sort_values(by='Symbol', ascending=False, na_position='last')\n",
    "\n",
    "# Deleted columns Adj Close, Num_Employees, Name, High, Low, Open, Close, Volume\n",
    "df_concat.drop(['Adj Close', 'Num_Employees', 'Name', 'High', 'Low', 'Open', 'Close', 'Volume'], axis=1, inplace=True)\n",
    "\n",
    "# Added column new-column-yaxq\n",
    "df_concat.insert(3, 'new-column-yaxq', 0)\n",
    "\n",
    "# Reordered column new-column-yaxq\n",
    "df_concat_columns = [col for col in df_concat.columns if col != 'new-column-yaxq']\n",
    "df_concat_columns.insert(2, 'new-column-yaxq')\n",
    "df_concat = df_concat[df_concat_columns]\n",
    "\n",
    "# Renamed columns Change in Market Cap\n",
    "df_concat.rename(columns={'new-column-yaxq': 'Change in Market Cap'}, inplace=True)\n",
    "\n",
    "# Set formula of Change in Market Cap\n",
    "df_concat['Change in Market Cap'] = IF(df_concat['Symbol']==df_concat['Symbol'].shift(1), (MAX(RollingRange(df_concat[['Market Cap']], 2, -1)) - MIN(RollingRange(df_concat[['Market Cap']], 2, -1))) / MIN(RollingRange(df_concat[['Market Cap']], 2, -1)),0)\n",
    "\n",
    "# Filtered Change in Market Cap\n",
    "df_concat = df_concat[df_concat['Change in Market Cap'] != 0]\n",
    "\n",
    "# Sorted Change in Market Cap in descending order\n",
    "df_concat = df_concat.sort_values(by='Change in Market Cap', ascending=False, na_position='last')\n",
    "\n",
    "# Pivoted df_concat into average_change_in_market_cap_by_sector_1\n",
    "tmp_df = df_concat[['Change in Market Cap', 'Sector']].copy()\n",
    "pivot_table = tmp_df.pivot_table(\n",
    "    index=['Sector'],\n",
    "    values=['Change in Market Cap'],\n",
    "    aggfunc={'Change in Market Cap': ['mean']}\n",
    ")\n",
    "pivot_table = pivot_table.set_axis([flatten_column_header(col) for col in pivot_table.keys()], axis=1)\n",
    "average_change_in_market_cap_by_sector_1 = pivot_table.reset_index()\n",
    "\n",
    "# Formatted dataframes. View these styling objects to see the formatted dataframe\n",
    "df_concat_styler = df_concat.style\\\n",
    "    .format(\"{:,.2%}\", subset=['Change in Market Cap'])\n"
   ]
  },
  {
   "cell_type": "code",
   "execution_count": 32,
   "id": "1d9b7c36-6e65-499a-bb70-3637a0be090b",
   "metadata": {},
   "outputs": [
    {
     "data": {
      "text/html": [
       "<iframe\n",
       "    scrolling=\"no\"\n",
       "    width=\"100%\"\n",
       "    height=\"545px\"\n",
       "    src=\"iframe_figures/figure_32.html\"\n",
       "    frameborder=\"0\"\n",
       "    allowfullscreen\n",
       "></iframe>\n"
      ]
     },
     "metadata": {},
     "output_type": "display_data"
    }
   ],
   "source": [
    "import plotly.express as px\n",
    "# Construct the graph and style it. Further customize your graph by editing this code.\n",
    "# See Plotly Documentation for help: https://plotly.com/python/plotly-express/\n",
    "fig = px.bar(df_concat, x='Symbol', y='Change in Market Cap')\n",
    "fig.update_layout(\n",
    "        title='Symbol, Change in Market Cap bar chart', \n",
    "        xaxis={\n",
    "            \"showgrid\": True, \n",
    "            \"rangeslider\": {\n",
    "                \"visible\": True, \n",
    "                \"thickness\": 0.05\n",
    "            }\n",
    "        }, \n",
    "        yaxis={\n",
    "            \"showgrid\": True\n",
    "        }, \n",
    "        legend={\n",
    "            \"orientation\": 'v'\n",
    "        }, \n",
    "        barmode='group', \n",
    "        paper_bgcolor='#FFFFFF'\n",
    "    )\n",
    "fig.show(renderer=\"iframe\")"
   ]
  },
  {
   "cell_type": "code",
   "execution_count": 33,
   "id": "dfd493a0-37f5-4b06-ba8a-30818932ad2d",
   "metadata": {},
   "outputs": [
    {
     "data": {
      "text/html": [
       "<iframe\n",
       "    scrolling=\"no\"\n",
       "    width=\"100%\"\n",
       "    height=\"545px\"\n",
       "    src=\"iframe_figures/figure_33.html\"\n",
       "    frameborder=\"0\"\n",
       "    allowfullscreen\n",
       "></iframe>\n"
      ]
     },
     "metadata": {},
     "output_type": "display_data"
    }
   ],
   "source": [
    "import plotly.express as px\n",
    "# Construct the graph and style it. Further customize your graph by editing this code.\n",
    "# See Plotly Documentation for help: https://plotly.com/python/plotly-express/\n",
    "fig = px.bar(average_change_in_market_cap_by_sector_1, x='Sector', y='Change in Market Cap mean')\n",
    "fig.update_layout(\n",
    "        title='Sector, Change in Market Cap mean bar chart', \n",
    "        xaxis={\n",
    "            \"showgrid\": True, \n",
    "            \"rangeslider\": {\n",
    "                \"visible\": True, \n",
    "                \"thickness\": 0.05\n",
    "            }\n",
    "        }, \n",
    "        yaxis={\n",
    "            \"showgrid\": True\n",
    "        }, \n",
    "        legend={\n",
    "            \"orientation\": 'v'\n",
    "        }, \n",
    "        barmode='group', \n",
    "        paper_bgcolor='#FFFFFF'\n",
    "    )\n",
    "fig.show(renderer=\"iframe\")"
   ]
  },
  {
   "cell_type": "code",
   "execution_count": null,
   "id": "5b6227d0-7fba-476a-af55-1a3a8708bc67",
   "metadata": {},
   "outputs": [],
   "source": []
  },
  {
   "cell_type": "code",
   "execution_count": null,
   "id": "5a1722ea-619d-459c-ac75-878bb859a473",
   "metadata": {},
   "outputs": [],
   "source": []
  },
  {
   "cell_type": "code",
   "execution_count": null,
   "id": "42bc01eb-d91a-484d-8aeb-e79c3156be2c",
   "metadata": {},
   "outputs": [],
   "source": []
  },
  {
   "cell_type": "code",
   "execution_count": null,
   "id": "d6322333-ecfe-4b06-93cc-c0ec18cec6e7",
   "metadata": {},
   "outputs": [],
   "source": []
  },
  {
   "cell_type": "code",
   "execution_count": null,
   "id": "c2b8976c-20ad-4377-b6f6-87a71f6ef6d4",
   "metadata": {},
   "outputs": [],
   "source": []
  },
  {
   "cell_type": "code",
   "execution_count": null,
   "id": "3db4739f-8beb-41b3-a4d1-af548fb1e824",
   "metadata": {},
   "outputs": [],
   "source": []
  },
  {
   "cell_type": "code",
   "execution_count": null,
   "id": "c6b4e95b-6b16-4ffd-b7af-5c7e58a5078d",
   "metadata": {},
   "outputs": [],
   "source": []
  }
 ],
 "metadata": {
  "kernelspec": {
   "display_name": "Python 3 (ipykernel)",
   "language": "python",
   "name": "python3"
  },
  "language_info": {
   "codemirror_mode": {
    "name": "ipython",
    "version": 3
   },
   "file_extension": ".py",
   "mimetype": "text/x-python",
   "name": "python",
   "nbconvert_exporter": "python",
   "pygments_lexer": "ipython3",
   "version": "3.11.1"
  }
 },
 "nbformat": 4,
 "nbformat_minor": 5
}
