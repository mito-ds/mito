{
 "cells": [
  {
   "cell_type": "code",
   "execution_count": 2,
   "id": "96b32df4-a4eb-4192-b7a8-32c6a43887a9",
   "metadata": {},
   "outputs": [],
   "source": [
    "import plotly.express as px\n",
    "from mitosheet.public.v3 import *; # Analysis Name:id-dnjjcfibvx;\n",
    "import pandas as pd"
   ]
  },
  {
   "cell_type": "code",
   "execution_count": 3,
   "id": "a3fe6e7b-0c17-4fc8-a630-f39b4dce3f0c",
   "metadata": {},
   "outputs": [],
   "source": [
    "# Imported warren_buffett_portfolio.csv\n",
    "warren_buffett_portfolio = pd.read_csv('./warren_buffett_portfolio.csv')\n",
    "\n",
    "# Changed Date to dtype datetime\n",
    "warren_buffett_portfolio['Date'] = pd.to_datetime(warren_buffett_portfolio['Date'], format='%Y-%m-%d', errors='coerce')"
   ]
  },
  {
   "cell_type": "markdown",
   "id": "6b35a45d-c6a8-4306-938b-002709fb6202",
   "metadata": {},
   "source": [
    "# Analysis"
   ]
  },
  {
   "cell_type": "code",
   "execution_count": 4,
   "id": "be7d0a75-32a4-4812-a45d-a828aee90958",
   "metadata": {},
   "outputs": [],
   "source": [
    "# Pivoted warren_buffett_portfolio into warren_buffett_portfolio_pivot\n",
    "tmp_df = warren_buffett_portfolio[['Industry', 'Num_Employees']].copy()\n",
    "pivot_table = tmp_df.pivot_table(\n",
    "    index=['Industry'],\n",
    "    values=['Num_Employees'],\n",
    "    aggfunc={'Num_Employees': ['mean', 'median']}\n",
    ")\n",
    "pivot_table = pivot_table.set_axis([flatten_column_header(col) for col in pivot_table.keys()], axis=1)\n",
    "warren_buffett_portfolio_pivot = pivot_table.reset_index()\n"
   ]
  },
  {
   "cell_type": "code",
   "execution_count": 5,
   "id": "c094af3c-d221-47b7-9409-17115daaf96e",
   "metadata": {},
   "outputs": [
    {
     "data": {
      "text/html": [
       "<iframe\n",
       "    scrolling=\"no\"\n",
       "    width=\"100%\"\n",
       "    height=\"545px\"\n",
       "    src=\"iframe_figures/figure_5.html\"\n",
       "    frameborder=\"0\"\n",
       "    allowfullscreen\n",
       "></iframe>\n"
      ]
     },
     "metadata": {},
     "output_type": "display_data"
    }
   ],
   "source": [
    "# Construct the graph and style it. Further customize your graph by editing this code.\n",
    "# See Plotly Documentation for help: https://plotly.com/python/plotly-express/\n",
    "fig = px.bar(warren_buffett_portfolio_pivot, x='Industry', y='Num_Employees mean')\n",
    "fig.update_layout(\n",
    "        title='Industry, Num_Employees mean bar chart', \n",
    "        xaxis={\n",
    "            \"showgrid\": True, \n",
    "            \"rangeslider\": {\n",
    "                \"visible\": True, \n",
    "                \"thickness\": 0.05\n",
    "            }\n",
    "        }, \n",
    "        yaxis={\n",
    "            \"showgrid\": True\n",
    "        }, \n",
    "        legend={\n",
    "            \"orientation\": 'v'\n",
    "        }, \n",
    "        barmode='group', \n",
    "        paper_bgcolor='#FFFFFF'\n",
    "    )\n",
    "fig.show(renderer=\"iframe\")"
   ]
  },
  {
   "cell_type": "code",
   "execution_count": 6,
   "id": "c68fdf19-db8c-46dd-926f-d90ad35bb3bc",
   "metadata": {},
   "outputs": [],
   "source": [
    "warren_buffett_portfolio_copy = warren_buffett_portfolio.copy(deep=True)\n",
    "\n",
    "# Added column 'YEAR-MONTH'\n",
    "warren_buffett_portfolio_copy.insert(1, 'YEAR-MONTH', CONCAT(YEAR(warren_buffett_portfolio_copy['Date']), \"-\", MONTH( ENDOFBUSINESSMONTH(warren_buffett_portfolio_copy['Date']))))\n",
    "\n",
    "# Dropped duplicates in warren_buffett_portfolio\n",
    "warren_buffett_portfolio_copy = warren_buffett_portfolio_copy.drop_duplicates(subset=['YEAR-MONTH', 'Symbol'], keep='last')\n",
    "\n",
    "# Filtered Date\n",
    "warren_buffett_portfolio_copy = warren_buffett_portfolio_copy[warren_buffett_portfolio_copy['Date'] > pd.to_datetime('2018-02-25')]\n"
   ]
  },
  {
   "cell_type": "code",
   "execution_count": 7,
   "id": "4178831c-b006-4cc7-9c94-d056fff7d7e5",
   "metadata": {},
   "outputs": [
    {
     "data": {
      "text/html": [
       "<iframe\n",
       "    scrolling=\"no\"\n",
       "    width=\"100%\"\n",
       "    height=\"545px\"\n",
       "    src=\"iframe_figures/figure_7.html\"\n",
       "    frameborder=\"0\"\n",
       "    allowfullscreen\n",
       "></iframe>\n"
      ]
     },
     "metadata": {},
     "output_type": "display_data"
    }
   ],
   "source": [
    "# Filter the dataframe so that it does not crash the browser\n",
    "warren_buffett_portfolio_filtered = warren_buffett_portfolio_copy.head(1000)\n",
    "\n",
    "# Construct the graph and style it. Further customize your graph by editing this code.\n",
    "# See Plotly Documentation for help: https://plotly.com/python/plotly-express/\n",
    "fig = px.line(warren_buffett_portfolio_filtered, x='Date', y='Close', color='Symbol', line_shape='linear')\n",
    "fig.update_layout(\n",
    "        title='Date, Close (first 1000 rows) line', \n",
    "        xaxis={\n",
    "            \"showgrid\": True, \n",
    "            \"rangeslider\": {\n",
    "                \"visible\": True, \n",
    "                \"thickness\": 0.05\n",
    "            }\n",
    "        }, \n",
    "        yaxis={\n",
    "            \"showgrid\": True\n",
    "        }, \n",
    "        legend={\n",
    "            \"orientation\": 'v'\n",
    "        }, \n",
    "        paper_bgcolor='#FFFFFF'\n",
    "    )\n",
    "fig.show(renderer=\"iframe\")"
   ]
  },
  {
   "cell_type": "code",
   "execution_count": 8,
   "id": "297d29ea-03a3-4166-8c04-cfca0a999c19",
   "metadata": {},
   "outputs": [],
   "source": [
    "# Imported warren_buffett_portfolio.csv\n",
    "warren_buffett_portfolio_daily_change = pd.read_csv('./warren_buffett_portfolio.csv')\n",
    "\n",
    "# Added column 'DoD Delta'\n",
    "warren_buffett_portfolio_daily_change.insert(5, 'DoD Delta', IF(warren_buffett_portfolio_daily_change['Symbol']==warren_buffett_portfolio_daily_change['Symbol'].shift(1),(warren_buffett_portfolio_daily_change['Close']-warren_buffett_portfolio_daily_change['Close'].shift(1, fill_value=0))/warren_buffett_portfolio_daily_change['Close'].shift(1, fill_value=0),0))\n",
    "\n",
    "# Deleted columns Volume, Adj Close, Name, Sector, Industry, Num_Employees, High, Low, Open\n",
    "warren_buffett_portfolio_daily_change.drop(['Volume', 'Adj Close', 'Name', 'Sector', 'Industry', 'Num_Employees', 'High', 'Low', 'Open'], axis=1, inplace=True)\n",
    "\n",
    "# Sorted DoD Delta in descending order\n",
    "top_100_dod_changes = warren_buffett_portfolio_daily_change.sort_values(by='DoD Delta', ascending=False, na_position='last').head(100)\n",
    "worst_100_dod_changes = warren_buffett_portfolio_daily_change.sort_values(by='DoD Delta', ascending=True, na_position='last').head(100)\n"
   ]
  },
  {
   "cell_type": "code",
   "execution_count": 14,
   "id": "612b95b7-f656-4e7b-90ac-a4b30af5e614",
   "metadata": {},
   "outputs": [
    {
     "data": {
      "text/html": [
       "<iframe\n",
       "    scrolling=\"no\"\n",
       "    width=\"100%\"\n",
       "    height=\"545px\"\n",
       "    src=\"iframe_figures/figure_14.html\"\n",
       "    frameborder=\"0\"\n",
       "    allowfullscreen\n",
       "></iframe>\n"
      ]
     },
     "metadata": {},
     "output_type": "display_data"
    },
    {
     "data": {
      "text/html": [
       "<iframe\n",
       "    scrolling=\"no\"\n",
       "    width=\"100%\"\n",
       "    height=\"545px\"\n",
       "    src=\"iframe_figures/figure_14.html\"\n",
       "    frameborder=\"0\"\n",
       "    allowfullscreen\n",
       "></iframe>\n"
      ]
     },
     "metadata": {},
     "output_type": "display_data"
    }
   ],
   "source": [
    "fig_one = px.bar(top_100_dod_changes, x='Symbol', y='DoD Delta')\n",
    "fig_one.update_layout(\n",
    "        title='Symbol, DoD Delta bar chart', \n",
    "        xaxis={\n",
    "            \"showgrid\": True, \n",
    "            \"rangeslider\": {\n",
    "                \"visible\": True, \n",
    "                \"thickness\": 0.05\n",
    "            }\n",
    "        }, \n",
    "        yaxis={\n",
    "            \"showgrid\": True\n",
    "        }, \n",
    "        legend={\n",
    "            \"orientation\": 'v'\n",
    "        }, \n",
    "        barmode='group', \n",
    "        paper_bgcolor='#FFFFFF'\n",
    "    )\n",
    "fig_one.show(renderer=\"iframe\")\n",
    "\n",
    "fig_two = px.bar(worst_100_dod_changes, x='Symbol', y='DoD Delta')\n",
    "fig_two.update_layout(\n",
    "        title='Symbol, DoD Delta bar chart', \n",
    "        xaxis={\n",
    "            \"showgrid\": True, \n",
    "            \"rangeslider\": {\n",
    "                \"visible\": True, \n",
    "                \"thickness\": 0.05\n",
    "            }\n",
    "        }, \n",
    "        yaxis={\n",
    "            \"showgrid\": True\n",
    "        }, \n",
    "        legend={\n",
    "            \"orientation\": 'v'\n",
    "        }, \n",
    "        barmode='group', \n",
    "        paper_bgcolor='#FFFFFF'\n",
    "    )\n",
    "fig_two.show(renderer=\"iframe\")"
   ]
  },
  {
   "cell_type": "code",
   "execution_count": null,
   "id": "e2cf9b6c-94dd-4756-a72f-a3518185efaf",
   "metadata": {},
   "outputs": [],
   "source": []
  },
  {
   "cell_type": "code",
   "execution_count": null,
   "id": "e5de0dcd-a4c7-45b3-aec8-d5831e8c8b99",
   "metadata": {},
   "outputs": [],
   "source": []
  },
  {
   "cell_type": "code",
   "execution_count": null,
   "id": "1d9b7c36-6e65-499a-bb70-3637a0be090b",
   "metadata": {},
   "outputs": [],
   "source": []
  },
  {
   "cell_type": "code",
   "execution_count": null,
   "id": "dfd493a0-37f5-4b06-ba8a-30818932ad2d",
   "metadata": {},
   "outputs": [],
   "source": []
  },
  {
   "cell_type": "code",
   "execution_count": null,
   "id": "3ab58fca-474f-4d94-8b27-22245c74877d",
   "metadata": {},
   "outputs": [],
   "source": []
  },
  {
   "cell_type": "code",
   "execution_count": null,
   "id": "e8133c7f-f8db-4e1e-9d46-60e4958deedc",
   "metadata": {},
   "outputs": [],
   "source": []
  },
  {
   "cell_type": "code",
   "execution_count": null,
   "id": "4917407c-c4e1-48d4-b5b4-9a9d5c0616f9",
   "metadata": {},
   "outputs": [],
   "source": []
  }
 ],
 "metadata": {
  "kernelspec": {
   "display_name": "Python 3 (ipykernel)",
   "language": "python",
   "name": "python3"
  },
  "language_info": {
   "codemirror_mode": {
    "name": "ipython",
    "version": 3
   },
   "file_extension": ".py",
   "mimetype": "text/x-python",
   "name": "python",
   "nbconvert_exporter": "python",
   "pygments_lexer": "ipython3",
   "version": "3.11.1"
  }
 },
 "nbformat": 4,
 "nbformat_minor": 5
}
