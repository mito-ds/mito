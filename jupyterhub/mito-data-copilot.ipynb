{
 "cells": [
  {
   "cell_type": "markdown",
   "id": "65c526a4-fc85-48a3-8e0b-45bd083e5a97",
   "metadata": {
    "editable": true,
    "slideshow": {
     "slide_type": ""
    },
    "tags": []
   },
   "source": [
    "<div style=\"background-color: #FFF3F3; border-left: 3px solid #EF4444; padding: 6px 10px; margin-bottom: 15px; font-size: 12px; color: #666;\">\n",
    "  <span style=\"color: #EF4444; font-weight: bold;\">Note:</span> This is a demo environment - work will be deleted. For permanent use, <a href=\"https://docs.trymito.io/getting-started/installing-mito\" target=\"_blank\" style=\"color: #EF4444; text-decoration: underline;\">pip install it↗</a>\n",
    "</div>\n",
    "\n",
    "<div style=\"padding: 20px; margin-bottom: 5px; text-align: center;\">\n",
    "  <h2 style=\"margin-top: 0;\">Welcome to Mito AI!</h2>\n",
    "  <p style=\"font-size: 16px; margin-bottom: 5px; width: 100%; text-align:center;\">Explore the powerful features below and then try it yourself with the example prompts.</p>\n",
    "</div>\n",
    "\n",
    "<table style=\"width: 100%; max-width: 1000px; border-collapse: separate; border-spacing: 20px; margin: 0 auto;\">\n",
    "<tr>\n",
    "  <td style=\"width: 33%; border-radius: 10px; padding: 20px; background-color: white; vertical-align: top;\">\n",
    "    <img src=\"agent.png\" alt=\"Mito AI for Jupyter\" style=\"width: 100%; border-radius: 5px; box-shadow: 0 4px 8px rgba(0, 0, 0, 0.2);\">\n",
    "    <h4 style=\"text-align: center;\">Data Copilot</h4>\n",
    "    <p>Agent mode can complete tasks end to end. It writes code, reviews cell outputs, and answers your questions.</p>\n",
    "  </td>\n",
    "  <td style=\"width: 33%; border-radius: 10px; padding: 20px; background-color: white; vertical-align: top;\">\n",
    "    <img src=\"smart-debugger.png\" alt=\"Install Mito for Jupyter\" style=\"width: 100%; border-radius: 5px; box-shadow: 0 4px 8px rgba(0, 0, 0, 0.2);\">\n",
    "    <h4 style=\"text-align: center;\">Smart Debugging</h4>\n",
    "    <p>Mito is your error debugging partner. It's just one click away for all the messiest debugging sessions.</p>\n",
    "  </td>\n",
    "  <td style=\"width: 33%; border-radius: 10px; padding: 20px; background-color: white; vertical-align: top;\">\n",
    "    <img src=\"spreadsheet.png\" alt=\"Build a Mito Streamlit App\" style=\"width: 100%; border-radius: 5px; box-shadow: 0 4px 8px rgba(0, 0, 0, 0.2);\">\n",
    "    <h4 style=\"text-align: center;\">Spreadsheet</h4>\n",
    "    <p>Write spreadsheet formulas like VLOOKUP, apply filters, build pivot tables, and create graphs all in an Excel-like spreadsheet.</p>\n",
    "  </td>\n",
    "</tr>\n",
    "</table>\n",
    "\n",
    "<div style=\"margin-top: 0px; padding-top: 20px;\">\n",
    "  <h2 style=\"text-align: center; margin-bottom: 20px;\">\n",
    "    Send a message to the Agent\n",
    "  </h2>\n",
    "  <p style=\"text-align: center; font-size: 16px; margin-bottom: 25px;\">Copy and paste a prompt into the input field on the left, or create one of your own</p>\n",
    "  \n",
    "  <div style=\"max-width: 800px; margin: 0 auto;\">\n",
    "    <!-- Example 1 -->\n",
    "    <div style=\"margin-bottom: 20px;\">\n",
    "      <div style=\"display: flex; align-items: center; margin-bottom: 5px;\">\n",
    "        <div style=\"font-weight: bold; font-size: 16px; color: #4285f4;\">Data Visualization Example</div>\n",
    "      </div>\n",
    "      <textarea readonly style=\"width: 100%; border: 1px solid #ddd; border-left: 5px solid #4285f4; border-radius: 8px; padding: 12px; background-color: #f8f9fa; font-family: monospace; font-size: 14px; resize: none; overflow: hidden;\">Build an annotated graph of how Meta's acquisitions of Instagram, Whatsapp, and Giphy effected the Meta stock price</textarea>\n",
    "    </div>\n",
    "    <div style=\"margin-bottom: 20px;\">\n",
    "      <div style=\"display: flex; align-items: center; margin-bottom: 5px;\">\n",
    "        <div style=\"font-weight: bold; font-size: 16px; color: #ea4335;\">Safety Analysis Example</div>\n",
    "      </div>\n",
    "      <textarea readonly style=\"width: 100%; border: 1px solid #ddd; border-left: 5px solid #ea4335; border-radius: 8px; padding: 12px; background-color: #f8f9fa; font-family: monospace; font-size: 14px; resize: none; overflow: hidden;\">Visualize which vehicle types are most deadly to pedestrians and cyclists, measuring total fatalities & fatality rate per collision?</textarea>\n",
    "    </div>\n",
    "    <div style=\"margin-bottom: 20px;\">\n",
    "      <div style=\"display: flex; align-items: center; margin-bottom: 5px;\">\n",
    "        <div style=\"font-weight: bold; font-size: 16px; color: #34a853;\">Economic Analysis Example</div>\n",
    "      </div>\n",
    "      <textarea readonly style=\"width: 100%; border: 1px solid #ddd; border-left: 5px solid #34a853; border-radius: 8px; padding: 12px; background-color: #f8f9fa; font-family: monospace; font-size: 14px; resize: none; overflow: hidden;\">Graph the countries that have the highest trade surplus with America.</textarea>\n",
    "    </div>\n",
    "  </div>\n",
    "</div>"
   ]
  },
  {
   "cell_type": "code",
   "execution_count": null,
   "id": "0472c7b9-4b00-4e72-b5f2-fab5d52e26f6",
   "metadata": {},
   "outputs": [],
   "source": []
  }
 ],
 "metadata": {
  "kernelspec": {
   "display_name": "Python 3 (ipykernel)",
   "language": "python",
   "name": "python3"
  },
  "language_info": {
   "codemirror_mode": {
    "name": "ipython",
    "version": 3
   },
   "file_extension": ".py",
   "mimetype": "text/x-python",
   "name": "python",
   "nbconvert_exporter": "python",
   "pygments_lexer": "ipython3",
   "version": "3.11.1"
  }
 },
 "nbformat": 4,
 "nbformat_minor": 5
}
