{
 "cells": [
  {
   "cell_type": "markdown",
   "id": "65c526a4-fc85-48a3-8e0b-45bd083e5a97",
   "metadata": {},
   "source": [
    "<div style=\"background-color: #FEE2E2; border-radius: 8px; padding: 10px; margin-bottom: 30px; text-align: center; border-left: 5px solid #EF4444; color:#EF4444\">\n",
    "  This environment is built for demo purposes only. Your work will be deleted. <b>To use Mito locally and permanently\n",
    "  <a href=\"https://docs.trymito.io/getting-started/installing-mito\" target=\"_blank\" style=\"color: #8b6f43; text-decoration: underline;\">pip install it↗</a></b>\n",
    "</div>\n",
    "<div style=\"padding: 20px; margin-bottom: 30px; text-align: center; border-left: 5px solid #3366cc;\">\n",
    "  <h2 style=\"margin-top: 0; color: #3366cc;\">Welcome to Mito AI!</h2>\n",
    "  <p style=\"font-size: 16px; margin-bottom: 5px; width: 100%; text-align:center;\">Explore the powerful features below and then try it yourself with the example prompts.</p>\n",
    "</div>\n",
    "<table style=\"width: 100%; max-width: 1000px; border-collapse: separate; border-spacing: 20px;\">\n",
    "<tr>\n",
    "  <td style=\"width: 33%; border: 1px solid #ccc; border-radius: 10px; padding: 20px; vertical-align: top;\">\n",
    "    <img src=\"agent.png\" alt=\"Mito AI for Jupyter\" style=\"width: 100%; border-radius: 5px; box-shadow: 0 4px 8px rgba(0, 0, 0, 0.2);\">\n",
    "    <h2 style=\"text-align: center;\">Data Copilot</h2>\n",
    "    <p>Agent mode can complete tasks end to end. It writes code, reviews cell outputs, and answers your questions.</p>\n",
    "  </td>\n",
    "  <td style=\"width: 33%; border: 1px solid #ccc; border-radius: 10px; padding: 20px; vertical-align: top;\">\n",
    "    <img src=\"smart-debugger.png\" alt=\"Install Mito for Jupyter\" style=\"width: 100%; border-radius: 5px; box-shadow: 0 4px 8px rgba(0, 0, 0, 0.2);\">\n",
    "    <h2 style=\"text-align: center;\">Smart Debugging</h2>\n",
    "    <p>Mito is your error debugging partner. It's just one click away for all the messiest debugging sessions.</p>\n",
    "  </td>\n",
    "  <td style=\"width: 33%; border: 1px solid #ccc; border-radius: 10px; padding: 20px; vertical-align: top;\">\n",
    "    <img src=\"spreadsheet.png\" alt=\"Build a Mito Streamlit App\" style=\"width: 100%; border-radius: 5px; box-shadow: 0 4px 8px rgba(0, 0, 0, 0.2);\">\n",
    "    <h2 style=\"text-align: center;\">Spreadsheet</h2>\n",
    "    <p>Write spreadsheet formulas like VLOOKUP, apply filters, build pivot tables, and create graphs all in an Excel-like spreadsheet.</p>\n",
    "  </td>\n",
    "</tr>\n",
    "</table>\n",
    "<table style=\"width: 100%; border-collapse: separate; border-spacing: 20px;>\n",
    "<tr>\n",
    "  <td colspan=\"3\" style=\"padding-top: 30px;\">\n",
    "    <div style=\"background-color: #000000; color: white; text-align: center; padding: 30px; border-radius: 12px; box-shadow: 0 6px 12px rgba(0, 0, 0, 0.3);\">\n",
    "        <h2 style=\"margin: 0; color: white; font-size: 24px; letter-spacing: 0.5px;\">←   Send a message to the Agent to get started</h2>\n",
    "        <h4>Copy and paste a prompt from below, or create one of your own</h4>\n",
    "        <div style=\"background-color: #1a1a1a; color: #4285f4; padding: 18px; border-radius: 8px; font-family: monospace; font-size: 12px; text-align: center; margin: 25px auto; border: 1px solid #333; letter-spacing: 0.5px;\">\n",
    "        Build an annotated graph of how Meta's acquisitions of Instagram, Whatsapp, and Giphy effected the Meta stock price\n",
    "        </div>\n",
    "        <div style=\"background-color: #1a1a1a; color: #4285f4; padding: 18px; border-radius: 8px; font-family: monospace; font-size: 12px; text-align: center; margin: 25px auto; border: 1px solid #333; letter-spacing: 0.5px;\">\n",
    "        Visualize which vehicle types are most deadly to pedestrians and cyclists, measuring total fatalities & fatality rate per collision?\n",
    "        </div>\n",
    "        <div style=\"background-color: #1a1a1a; color: #4285f4; padding: 18px; border-radius: 8px; font-family: monospace; font-size: 12px; text-align: center; margin: 25px auto; border: 1px solid #333; letter-spacing: 0.5px;\">\n",
    "          Graph the countries that have the highest trade surplus with America.\n",
    "        </div>\n",
    "    </div>\n",
    "  </td>\n",
    "</tr>\n",
    "</table>"
   ]
  },
  {
   "cell_type": "code",
   "execution_count": null,
   "id": "ec975798-e447-4e25-a56d-1f417f48fe65",
   "metadata": {},
   "outputs": [],
   "source": []
  }
 ],
 "metadata": {
  "kernelspec": {
   "display_name": "Python 3 (ipykernel)",
   "language": "python",
   "name": "python3"
  },
  "language_info": {
   "codemirror_mode": {
    "name": "ipython",
    "version": 3
   },
   "file_extension": ".py",
   "mimetype": "text/x-python",
   "name": "python",
   "nbconvert_exporter": "python",
   "pygments_lexer": "ipython3",
   "version": "3.11.1"
  }
 },
 "nbformat": 4,
 "nbformat_minor": 5
}
