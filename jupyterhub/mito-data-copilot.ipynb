{
 "cells": [
  {
   "cell_type": "markdown",
   "id": "65c526a4-fc85-48a3-8e0b-45bd083e5a97",
   "metadata": {
    "editable": true,
    "include-cell-in-app": true,
    "slideshow": {
     "slide_type": ""
    },
    "tags": []
   },
   "source": [
    "<div style=\"padding: 8px 12px; margin-bottom: 15px; font-size: 12px; border-radius: 10px; text-align: center;\">\n",
    "This is a Mito demo environment - your work will be deleted. For permanent use,&nbsp;<a href=\"https://docs.trymito.io/getting-started/installing-mito\" target=\"_blank\" style=\"color: #844AF7; text-decoration: underline;\">install Mito locally↗</a>\n",
    "</div>"
   ]
  },
  {
   "cell_type": "code",
   "execution_count": null,
   "id": "0472c7b9-4b00-4e72-b5f2-fab5d52e26f6",
   "metadata": {
    "include-cell-in-app": true
   },
   "outputs": [],
   "source": []
  }
 ],
 "metadata": {
  "kernelspec": {
   "display_name": "Python 3 (ipykernel)",
   "language": "python",
   "name": "python3"
  },
  "language_info": {
   "codemirror_mode": {
    "name": "ipython",
    "version": 3
   },
   "file_extension": ".py",
   "mimetype": "text/x-python",
   "name": "python",
   "nbconvert_exporter": "python",
   "pygments_lexer": "ipython3",
   "version": "3.11.1"
  }
 },
 "nbformat": 4,
 "nbformat_minor": 5
}
