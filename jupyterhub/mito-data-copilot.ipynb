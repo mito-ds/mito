{
 "cells": [
  {
   "cell_type": "markdown",
   "id": "65c526a4-fc85-48a3-8e0b-45bd083e5a97",
   "metadata": {
    "editable": true,
    "slideshow": {
     "slide_type": ""
    },
    "tags": []
   },
   "source": [
    "<div style=\"border-left: 3px solid #844AF7; background-color: #F6F2FF; padding: 8px 12px; margin-bottom: 15px; display: flex; align-items: center; font-size: 16px;\">\n",
    "<span style=\"font-weight: bold; color: #844AF7; margin-right: 5px;\">Note:</span> This is a demo environment - your work will be deleted. For permanent use,&nbsp;<a href=\"https://docs.trymito.io/getting-started/installing-mito\" target=\"_blank\" style=\"color: #844AF7; text-decoration: underline;\">  install Mito locally↗</a>\n",
    "</div> \n",
    "\n",
    "\n",
    "<div style=\"text-align: center; padding: 15px 0 25px 0;\">\n",
    "  <h1 style=\"margin-bottom: 20px;\">Welcome to Mito</h1>\n",
    "  <p style=\"width: 100%; text-align: center; color: #555; font-size: 16px; margin: 0 auto;\"><b>Copy and paste</b> an example into the Chat Taskpane on the left</p>\n",
    "</div>\n",
    "\n",
    "<div style=\"max-width: 750px; margin: 0 auto 40px auto;\">\n",
    "  <div style=\"margin-bottom: 25px; border: 1px solid #e0e0e0; border-radius: 8px; overflow: hidden; box-shadow: 0 2px 4px rgba(0,0,0,0.05);\">\n",
    "    <div style=\"background-color: #F6F2FF; padding: 10px 15px; border-bottom: 1px solid #e0e0e0; display: flex; align-items: center;\">\n",
    "      <div style=\"color: #844AF7; font-weight: bold; font-size: 14px;\">Data Visualization Prompt</div>\n",
    "    </div>\n",
    "    <pre style=\"margin: 0; padding: 15px; background-color: white; font-family: monospace; font-size: 14px; line-height: 1.4; white-space: pre-wrap; user-select: all;\">Build an annotated graph of how Meta's acquisitions of Instagram, Whatsapp, and Giphy effected the Meta stock price.</pre>\n",
    "  </div>\n",
    "\n",
    "  <div style=\"margin-bottom: 25px; border: 1px solid #e0e0e0; border-radius: 8px; overflow: hidden; box-shadow: 0 2px 4px rgba(0,0,0,0.05);\">\n",
    "    <div style=\"background-color: #F6F2FF; padding: 10px 15px; border-bottom: 1px solid #e0e0e0; display: flex; align-items: center;\">\n",
    "      <div style=\"color: #844AF7; font-weight: bold; font-size: 14px;\">Safety Analysis Prompt</div>\n",
    "    </div>\n",
    "    <pre style=\"margin: 0; padding: 15px; background-color: white; font-family: monospace; font-size: 14px; line-height: 1.4; white-space: pre-wrap; user-select: all;\">Visualize which vehicle types are most deadly to pedestrians and cyclists, measuring total fatalities and fatality rate per collision.</pre>\n",
    "  </div>\n",
    "\n",
    "  <div style=\"margin-bottom: 25px; border: 1px solid #e0e0e0; border-radius: 8px; overflow: hidden; box-shadow: 0 2px 4px rgba(0,0,0,0.05);\">\n",
    "    <div style=\"background-color: #F6F2FF; padding: 10px 15px; border-bottom: 1px solid #e0e0e0; display: flex; align-items: center;\">\n",
    "      <div style=\"color: #844AF7; font-weight: bold; font-size: 14px;\">Economic Analysis Prompt</div>\n",
    "    </div>\n",
    "    <pre style=\"margin: 0; padding: 15px; background-color: white; font-family: monospace; font-size: 14px; line-height: 1.4; white-space: pre-wrap; user-select: all;\">Graph the countries that have the highest trade surplus with America.</pre>\n",
    "  </div>\n",
    "  \n",
    "  <div style=\"text-align: center; margin-top: 30px; margin-bottom: 20px;\">\n",
    "    <p style=\"color: #666; font-size: 14px;\">\n",
    "      Or create a prompt of your own\n",
    "    </p>\n",
    "  </div>\n",
    "</div>"
   ]
  },
  {
   "cell_type": "code",
   "execution_count": null,
   "id": "0472c7b9-4b00-4e72-b5f2-fab5d52e26f6",
   "metadata": {},
   "outputs": [],
   "source": []
  }
 ],
 "metadata": {
  "kernelspec": {
   "display_name": "Python 3 (ipykernel)",
   "language": "python",
   "name": "python3"
  },
  "language_info": {
   "codemirror_mode": {
    "name": "ipython",
    "version": 3
   },
   "file_extension": ".py",
   "mimetype": "text/x-python",
   "name": "python",
   "nbconvert_exporter": "python",
   "pygments_lexer": "ipython3",
   "version": "3.11.1"
  }
 },
 "nbformat": 4,
 "nbformat_minor": 5
}
